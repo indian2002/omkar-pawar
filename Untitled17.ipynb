{
 "cells": [
  {
   "cell_type": "code",
   "execution_count": null,
   "id": "ea84d3d5",
   "metadata": {},
   "outputs": [],
   "source": [
    "Q1. What is the distinction between a numpy array and a pandas data frame? Is there a way to\n",
    "convert between the two if there is?\n",
    "\n",
    "Q2. What can go wrong when an user enters in a stock-ticker symbol, and how do you handle it?\n",
    "\n",
    "Q3. Identify some of the plotting techniques that are used to produce a stock-market chart.\n",
    "\n",
    "Q4. Why is it essential to print a legend on a stock market chart?\n",
    "\n",
    "Q5. What is the best way to limit the length of a pandas data frame to less than a year?\n",
    "\n",
    "Q6. What is the definition of a 180-day moving average?\n",
    "\n",
    "Q7. Did the chapter&#39;s final example use &quot;indirect&quot; importing? If so, how exactly do you do it?"
   ]
  },
  {
   "cell_type": "code",
   "execution_count": null,
   "id": "aecc2f05",
   "metadata": {},
   "outputs": [],
   "source": [
    "Q1:\n",
    "Numpy Array vs. Pandas Data Frame:\n",
    "\n",
    "Numpy Array: Numpy provides a powerful N-dimensional array object that is homogeneous. It is suitable for mathematical operations and numerical computations.\n",
    "\n",
    "Pandas Data Frame: Pandas is built on top of Numpy and provides a DataFrame object, which is a two-dimensional table with labeled axes. It is more versatile and can store mixed data types.\n",
    "\n",
    "Conversion:\n",
    "You can convert a Numpy array to a Pandas DataFrame using pd.DataFrame(array), and you can convert a Pandas DataFrame to a Numpy array using the .to_numpy() method."
   ]
  },
  {
   "cell_type": "code",
   "execution_count": null,
   "id": "d9d78fce",
   "metadata": {},
   "outputs": [],
   "source": [
    "Q2:\n",
    "When a user enters a stock-ticker symbol, potential issues include:\n",
    "\n",
    "Invalid Ticker Symbol: The entered symbol may not correspond to a valid stock.\n",
    "Network Issues: The system may fail to retrieve stock data due to network problems.\n",
    "Data Unavailability: Historical or real-time data for the given symbol may not be available.\n",
    "Handling:\n",
    "\n",
    "Validate the entered ticker symbol.\n",
    "Implement error handling for network-related issues.\n",
    "Provide meaningful error messages to the user."
   ]
  },
  {
   "cell_type": "code",
   "execution_count": null,
   "id": "47535822",
   "metadata": {},
   "outputs": [],
   "source": [
    "Q3:\n",
    "Plotting Techniques for Stock-Market Chart:\n",
    "\n",
    "Line Charts: Show the trend in stock prices over time.\n",
    "Candlestick Charts: Display open, high, low, and close prices for a given period.\n",
    "Bar Charts: Represent individual data points for specific intervals.\n",
    "Moving Averages: Smooth out price data to identify trends."
   ]
  },
  {
   "cell_type": "code",
   "execution_count": null,
   "id": "67f3bb4d",
   "metadata": {},
   "outputs": [],
   "source": [
    "Q4:\n",
    "Importance of Legend on Stock Market Chart:\n",
    "\n",
    "A legend on a stock market chart helps identify different elements, such as multiple stocks or different data series.\n",
    "It provides clarity and context, making it easier for viewers to interpret the information presented.\n",
    "Especially important when plotting multiple stocks on the same chart."
   ]
  },
  {
   "cell_type": "code",
   "execution_count": null,
   "id": "29c088e7",
   "metadata": {},
   "outputs": [],
   "source": [
    "Q5:\n",
    "Limit Pandas Data Frame to Less Than a Year:\n",
    "You can limit a Pandas DataFrame to less than a year by filtering the data based on the date. For example:"
   ]
  },
  {
   "cell_type": "code",
   "execution_count": null,
   "id": "13c617ba",
   "metadata": {},
   "outputs": [],
   "source": [
    "Q6:\n",
    "Definition of a 180-Day Moving Average:\n",
    "\n",
    "The 180-day moving average is a technical analysis indicator that calculates the average price of a security over the last 180 days.\n",
    "It smoothens out short-term fluctuations and highlights the long-term trend.\n"
   ]
  },
  {
   "cell_type": "code",
   "execution_count": null,
   "id": "a44d632b",
   "metadata": {},
   "outputs": [],
   "source": [
    "Q7:\n",
    "Indirect Importing in Python:\n",
    "\n",
    "The term \"indirect importing\" is not standard, but it might refer to importing a specific function or module from another module without importing the entire namespace."
   ]
  }
 ],
 "metadata": {
  "kernelspec": {
   "display_name": "Python 3 (ipykernel)",
   "language": "python",
   "name": "python3"
  },
  "language_info": {
   "codemirror_mode": {
    "name": "ipython",
    "version": 3
   },
   "file_extension": ".py",
   "mimetype": "text/x-python",
   "name": "python",
   "nbconvert_exporter": "python",
   "pygments_lexer": "ipython3",
   "version": "3.11.5"
  }
 },
 "nbformat": 4,
 "nbformat_minor": 5
}
