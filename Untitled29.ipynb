{
 "cells": [
  {
   "cell_type": "code",
   "execution_count": null,
   "id": "b47bab2c",
   "metadata": {},
   "outputs": [],
   "source": [
    "Q1. What is the difference between __getattr__ and __getattribute__?\n",
    "\n",
    "Q2. What is the difference between properties and descriptors?\n",
    "\n",
    "Q3. What are the key differences in functionality between __getattr__ and __getattribute__, as well as\n",
    "properties and descriptors?"
   ]
  },
  {
   "cell_type": "code",
   "execution_count": null,
   "id": "bb66d743",
   "metadata": {},
   "outputs": [],
   "source": [
    "Q1. The main difference between __getattr__ and __getattribute__ in Python lies in the timing of their invocation and the scope of their effects:\n",
    "\n",
    "__getattr__(self, name): This method is called when an attempt is made to access an attribute that does not exist. It is invoked only after the default attribute lookup fails to find the attribute.\n",
    "\n",
    "__getattribute__(self, name): This method is called for every attribute access, whether the attribute exists or not. It is invoked before the default attribute lookup, and it applies to all attribute access, not just the ones that don't exist."
   ]
  },
  {
   "cell_type": "code",
   "execution_count": null,
   "id": "59b95473",
   "metadata": {},
   "outputs": [],
   "source": [
    "Q2. Properties and descriptors are both ways to customize attribute access in Python, but they have some differences:\n",
    "\n",
    "Properties: Properties are a high-level way to define read-only, write-only, or read-write computed attributes. They are defined using the property built-in function and decorators like @property, @<attribute>.setter, and @<attribute>.deleter. Properties are associated with a specific class attribute and provide a way to execute custom code when getting, setting, or deleting that attribute.\n",
    "\n",
    "Descriptors: Descriptors are a more general mechanism for customizing attribute access. They involve defining a separate class with at least one of the methods __get__, __set__, or __delete__. Descriptors can be used as class attributes, allowing customization of multiple attributes within a class."
   ]
  },
  {
   "cell_type": "code",
   "execution_count": null,
   "id": "0db58e13",
   "metadata": {},
   "outputs": [],
   "source": [
    "Q3. Key differences in functionality between __getattr__ and __getattribute__, as well as properties and descriptors:\n",
    "\n",
    "__getattr__ vs. __getattribute__:\n",
    "\n",
    "__getattribute__ is called for all attribute access and is defined at the class level. It's invoked before the default attribute lookup.\n",
    "__getattr__ is called only when the default attribute lookup fails and is defined at the instance level. It's invoked after the default lookup.\n",
    "Properties vs. Descriptors:\n",
    "\n",
    "Properties are typically simpler and more convenient for defining computed attributes with custom behavior.\n",
    "Descriptors provide a more general mechanism and can be used to customize multiple attributes in a class.\n",
    "Descriptors can be reused across multiple classes, promoting code reusability.\n",
    "In summary, __getattribute__ and __getattr__ are related to attribute lookup, while properties and descriptors are mechanisms for customizing attribute access with different levels of generality and flexibility.\n",
    "\n",
    "\n",
    "\n",
    "\n",
    "\n"
   ]
  }
 ],
 "metadata": {
  "kernelspec": {
   "display_name": "Python 3 (ipykernel)",
   "language": "python",
   "name": "python3"
  },
  "language_info": {
   "codemirror_mode": {
    "name": "ipython",
    "version": 3
   },
   "file_extension": ".py",
   "mimetype": "text/x-python",
   "name": "python",
   "nbconvert_exporter": "python",
   "pygments_lexer": "ipython3",
   "version": "3.11.5"
  }
 },
 "nbformat": 4,
 "nbformat_minor": 5
}
