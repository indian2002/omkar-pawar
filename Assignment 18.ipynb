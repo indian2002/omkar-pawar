{
 "cells": [
  {
   "cell_type": "code",
   "execution_count": null,
   "id": "772c2191",
   "metadata": {},
   "outputs": [],
   "source": [
    "Q1. Explain the difference between greedy and non-greedy syntax with visual terms in as few words\n",
    "as possible. What is the bare minimum effort required to transform a greedy pattern into a non-greedy\n",
    "one? What characters or characters can you introduce or change?\n",
    "\n",
    "Q2. When exactly does greedy versus non-greedy make a difference?  What if you&#39;re looking for a\n",
    "non-greedy match but the only one available is greedy?\n",
    "\n",
    "Q3. In a simple match of a string, which looks only for one match and does not do any replacement, is\n",
    "the use of a nontagged group likely to make any practical difference?\n",
    "\n",
    "Q4. Describe a scenario in which using a nontagged category would have a significant impact on the\n",
    "program&#39;s outcomes.\n",
    "\n",
    "Q5. Unlike a normal regex pattern, a look-ahead condition does not consume the characters it\n",
    "examines. Describe a situation in which this could make a difference in the results of your\n",
    "programme.\n",
    "\n",
    "Q6. In standard expressions, what is the difference between positive look-ahead and negative look-\n",
    "ahead?\n",
    "\n",
    "Q7. What is the benefit of referring to groups by name rather than by number in a standard\n",
    "expression?\n",
    "\n",
    "Q8. Can you identify repeated items within a target string using named groups, as in &quot;The cow\n",
    "jumped over the moon&quot;?\n",
    "\n",
    "Q9. When parsing a string, what is at least one thing that the Scanner interface does for you that the\n",
    "re.findall feature does not?\n",
    "\n",
    "Q10. Does a scanner object have to be named scanner?"
   ]
  },
  {
   "cell_type": "code",
   "execution_count": null,
   "id": "2c2d991e",
   "metadata": {},
   "outputs": [],
   "source": [
    "1. **Difference Between Greedy and Non-greedy Syntax:**\n",
    "   - Greedy: Matches as much as possible while still allowing the overall pattern to match.\n",
    "   - Non-greedy: Matches as little as possible while still allowing the overall pattern to match.\n",
    "   - Transformation: Change quantifiers (+, *, ?, {}) to their non-greedy counterparts by adding a '?' after them.\n",
    "\n",
    "2. **When Greedy vs. Non-greedy Makes a Difference:**\n",
    "   - Difference: Affects the number of characters matched by a pattern, especially when used with quantifiers like *, +, or ?. \n",
    "   - Non-greedy Match: If only a greedy match is available, it may match more characters than intended, potentially altering program results.\n",
    "\n",
    "3. **Use of Non-tagged Group in Simple String Match:**\n",
    "   - Practical Difference: In a simple match without replacement, a non-tagged group doesn't make a significant difference.\n",
    "\n",
    "4. **Scenario Impact of Non-tagged Category:**\n",
    "   - Impact: When extracting substrings based on patterns, using non-tagged categories can affect the selection and grouping of matched portions, leading to different program outcomes.\n",
    "\n",
    "5. **Impact of Look-ahead Condition on Program Results:**\n",
    "   - Difference: In scenarios where you need to check for a pattern without consuming characters, look-ahead conditions are crucial for accurate results, especially when matching overlapping patterns.\n",
    "\n",
    "6. **Difference Between Positive and Negative Look-ahead:**\n",
    "   - Positive Look-ahead: Asserts that a pattern must be followed by another pattern.\n",
    "   - Negative Look-ahead: Asserts that a pattern must not be followed by another pattern.\n",
    "\n",
    "7. **Benefit of Referring to Groups by Name:**\n",
    "   - Benefit: Enhances code readability and maintainability, making it easier to understand the purpose of each group within a regular expression.\n",
    "\n",
    "8. **Identifying Repeated Items Using Named Groups:**\n",
    "   - Example: By using named groups, you can capture repeated items within a target string, such as finding all occurrences of the same word.\n",
    "\n",
    "9. **Difference Between Scanner Interface and re.findall:**\n",
    "   - Scanner Interface: Provides more control over parsing by allowing iteration over tokens one at a time, which re.findall does not offer.\n",
    "\n",
    "10. **Naming Convention for Scanner Objects:**\n",
    "    - No Requirement: A scanner object does not have to be named \"scanner\"; any valid identifier can be used."
   ]
  },
  {
   "cell_type": "code",
   "execution_count": null,
   "id": "fcf46914",
   "metadata": {},
   "outputs": [],
   "source": []
  }
 ],
 "metadata": {
  "kernelspec": {
   "display_name": "Python 3 (ipykernel)",
   "language": "python",
   "name": "python3"
  },
  "language_info": {
   "codemirror_mode": {
    "name": "ipython",
    "version": 3
   },
   "file_extension": ".py",
   "mimetype": "text/x-python",
   "name": "python",
   "nbconvert_exporter": "python",
   "pygments_lexer": "ipython3",
   "version": "3.11.5"
  }
 },
 "nbformat": 4,
 "nbformat_minor": 5
}
