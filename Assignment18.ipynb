{
 "cells": [
  {
   "cell_type": "code",
   "execution_count": null,
   "id": "5c219869",
   "metadata": {},
   "outputs": [],
   "source": [
    "Question 1\n",
    "Create a function that takes a list of non-negative integers and strings and return a new list\n",
    "without the strings.\n",
    "Examples\n",
    "filter_list([1, 2, &quot;a&quot;, &quot;b&quot;]) ➞ [1, 2]\n",
    "filter_list([1, &quot;a&quot;, &quot;b&quot;, 0, 15]) ➞ [1, 0, 15]\n",
    "filter_list([1, 2, &quot;aasf&quot;, &quot;1&quot;, &quot;123&quot;, 123]) ➞ [1, 2, 123]\n",
    "\n",
    "Question 2\n",
    "The &quot;Reverser&quot; takes a string as input and returns that string in reverse order, with the\n",
    "opposite case.\n",
    "Examples\n",
    "reverse(&quot;Hello World&quot;) ➞ &quot;DLROw OLLEh&quot;\n",
    "reverse(&quot;ReVeRsE&quot;) ➞ &quot;eSrEvEr&quot;\n",
    "reverse(&quot;Radar&quot;) ➞ &quot;RADAr&quot;\n",
    "\n",
    "Question 3\n",
    "You can assign variables from lists like this:\n",
    "lst = [1, 2, 3, 4, 5, 6]\n",
    "first = lst[0]\n",
    "middle = lst[1:-1]\n",
    "last = lst[-1]\n",
    "print(first) ➞ outputs 1\n",
    "print(middle) ➞ outputs [2, 3, 4, 5]\n",
    "print(last) ➞ outputs 6\n",
    "With Python 3, you can assign variables from lists in a much more succinct way. Create\n",
    "variables first, middle and last from the given list using destructuring assignment\n",
    "(check the Resources tab for some examples), where:\n",
    "first ➞ 1\n",
    "middle ➞ [2, 3, 4, 5]\n",
    "last ➞ 6\n",
    "\n",
    "Your task is to unpack the list writeyourcodehere into three variables, being first,\n",
    "middle, and last, with middle being everything in between the first and last element. Then\n",
    "print all three variables.\n",
    "\n",
    "Question 4\n",
    "Write a function that calculates the factorial of a number recursively.\n",
    "Examples\n",
    "factorial(5) ➞ 120\n",
    "factorial(3) ➞ 6\n",
    "factorial(1) ➞ 1\n",
    "factorial(0) ➞ 1\n",
    "\n",
    "Question 5\n",
    "Write a function that moves all elements of one type to the end of the list.\n",
    "Examples\n",
    "move_to_end([1, 3, 2, 4, 4, 1], 1) ➞ [3, 2, 4, 4, 1, 1]\n",
    "# Move all the 1s to the end of the array.\n",
    "move_to_end([7, 8, 9, 1, 2, 3, 4], 9) ➞ [7, 8, 1, 2, 3, 4, 9]\n",
    "move_to_end([&quot;a&quot;, &quot;a&quot;, &quot;a&quot;, &quot;b&quot;], &quot;a&quot;) ➞ [&quot;b&quot;, &quot;a&quot;, &quot;a&quot;, &quot;a&quot;]"
   ]
  },
  {
   "cell_type": "code",
   "execution_count": 1,
   "id": "aa74a80d",
   "metadata": {},
   "outputs": [
    {
     "name": "stdout",
     "output_type": "stream",
     "text": [
      "[1, 2]\n",
      "[1, 0, 15]\n",
      "[1, 2, 123]\n"
     ]
    }
   ],
   "source": [
    "#quetion1\n",
    "def filter_list(lst):\n",
    "    return [i for i in lst if type(i) == int]\n",
    "\n",
    "# Example usage:\n",
    "print(filter_list([1, 2, \"a\", \"b\"]))        # Output: [1, 2]\n",
    "print(filter_list([1, \"a\", \"b\", 0, 15]))    # Output: [1, 0, 15]\n",
    "print(filter_list([1, 2, \"aasf\", \"1\", \"123\", 123]))  # Output: [1, 2, 123]\n"
   ]
  },
  {
   "cell_type": "code",
   "execution_count": 2,
   "id": "16bb4b81",
   "metadata": {},
   "outputs": [
    {
     "name": "stdout",
     "output_type": "stream",
     "text": [
      "DLROw OLLEh\n",
      "eSrEvEr\n",
      "RADAr\n"
     ]
    }
   ],
   "source": [
    "#quetion2\n",
    "def reverse(s):\n",
    "    return s[::-1].swapcase()\n",
    "\n",
    "# Example usage:\n",
    "print(reverse(\"Hello World\"))   # Output: \"DLROw OLLEh\"\n",
    "print(reverse(\"ReVeRsE\"))        # Output: \"eSrEvEr\"\n",
    "print(reverse(\"Radar\"))           # Output: \"RADAr\"\n"
   ]
  },
  {
   "cell_type": "code",
   "execution_count": 3,
   "id": "2e12eb84",
   "metadata": {},
   "outputs": [
    {
     "name": "stdout",
     "output_type": "stream",
     "text": [
      "1\n",
      "[2, 3, 4, 5]\n",
      "6\n"
     ]
    }
   ],
   "source": [
    "#quetion3\n",
    "writeyourcodehere = [1, 2, 3, 4, 5, 6]\n",
    "first, *middle, last = writeyourcodehere\n",
    "print(first)    # Output: 1\n",
    "print(middle)   # Output: [2, 3, 4, 5]\n",
    "print(last)     # Output: 6\n"
   ]
  },
  {
   "cell_type": "code",
   "execution_count": 4,
   "id": "8c6026e4",
   "metadata": {},
   "outputs": [
    {
     "name": "stdout",
     "output_type": "stream",
     "text": [
      "120\n",
      "6\n",
      "1\n",
      "1\n"
     ]
    }
   ],
   "source": [
    "\n",
    "#quetion4\n",
    "def factorial(n):\n",
    "    if n == 0 or n == 1:\n",
    "        return 1\n",
    "    else:\n",
    "        return n * factorial(n-1)\n",
    "\n",
    "# Example usage:\n",
    "print(factorial(5))  # Output: 120\n",
    "print(factorial(3))  # Output: 6\n",
    "print(factorial(1))  # Output: 1\n",
    "print(factorial(0))  # Output: 1\n"
   ]
  },
  {
   "cell_type": "code",
   "execution_count": 5,
   "id": "0e85d212",
   "metadata": {},
   "outputs": [
    {
     "name": "stdout",
     "output_type": "stream",
     "text": [
      "[3, 2, 4, 4, 1, 1]\n",
      "[7, 8, 1, 2, 3, 4, 9]\n",
      "['b', 'a', 'a', 'a']\n"
     ]
    }
   ],
   "source": [
    "#quetion5\n",
    "def move_to_end(lst, elem):\n",
    "    return [i for i in lst if i != elem] + [i for i in lst if i == elem]\n",
    "\n",
    "# Example usage:\n",
    "print(move_to_end([1, 3, 2, 4, 4, 1], 1))   # Output: [3, 2, 4, 4, 1, 1]\n",
    "print(move_to_end([7, 8, 9, 1, 2, 3, 4], 9))   # Output: [7, 8, 1, 2, 3, 4, 9]\n",
    "print(move_to_end([\"a\", \"a\", \"a\", \"b\"], \"a\"))  # Output: [\"b\", \"a\", \"a\", \"a\"]\n"
   ]
  },
  {
   "cell_type": "code",
   "execution_count": null,
   "id": "370d3694",
   "metadata": {},
   "outputs": [],
   "source": []
  }
 ],
 "metadata": {
  "kernelspec": {
   "display_name": "Python 3 (ipykernel)",
   "language": "python",
   "name": "python3"
  },
  "language_info": {
   "codemirror_mode": {
    "name": "ipython",
    "version": 3
   },
   "file_extension": ".py",
   "mimetype": "text/x-python",
   "name": "python",
   "nbconvert_exporter": "python",
   "pygments_lexer": "ipython3",
   "version": "3.11.5"
  }
 },
 "nbformat": 4,
 "nbformat_minor": 5
}
