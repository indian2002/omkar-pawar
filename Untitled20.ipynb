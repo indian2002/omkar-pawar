{
 "cells": [
  {
   "cell_type": "code",
   "execution_count": null,
   "id": "c63f4b38",
   "metadata": {},
   "outputs": [],
   "source": [
    "1. What is the concept of an abstract superclass?\n",
    "\n",
    "2. What happens when a class statement&#39;s top level contains a basic assignment statement?\n",
    "\n",
    "3. Why does a class need to manually call a superclass&#39;s __init__ method?\n",
    "\n",
    "4. How can you augment, instead of completely replacing, an inherited method?\n",
    "\n",
    "5. How is the local scope of a class different from that of a function?"
   ]
  },
  {
   "cell_type": "code",
   "execution_count": null,
   "id": "48334e52",
   "metadata": {},
   "outputs": [],
   "source": [
    "\n",
    "1. What is the concept of an abstract superclass?\n",
    "Answer:\n",
    "An abstract superclass, in the context of object-oriented programming, is a class that is designed to be inherited by other classes rather than instantiated on its own. It often contains abstract methods, which are methods without a concrete implementation in the superclass. Subclasses are then required to provide their own implementation for these abstract methods. Abstract superclasses are used to define a common interface or behavior that should be shared among multiple related classes."
   ]
  },
  {
   "cell_type": "code",
   "execution_count": null,
   "id": "ccbd0e5f",
   "metadata": {},
   "outputs": [],
   "source": [
    "2. What happens when a class statement's top level contains a basic assignment statement?\n",
    "Answer:\n",
    "When a class statement's top level contains a basic assignment statement, it creates a class variable rather than an instance variable. Class variables are shared among all instances of the class, and modifying the value of a class variable affects all instances of that class. Instance variables, on the other hand, are specific to each instance of the class."
   ]
  },
  {
   "cell_type": "code",
   "execution_count": null,
   "id": "b36e6052",
   "metadata": {},
   "outputs": [],
   "source": [
    "3. Why does a class need to manually call a superclass's __init__ method?\n",
    "Answer:\n",
    "In Python, when a subclass has its own __init__ method, it needs to explicitly call the __init__ method of its superclass if the superclass has an __init__ method that initializes essential attributes. This ensures that both the subclass's and the superclass's initialization code is executed.\n",
    "\n",
    "python\n",
    "Copy code\n",
    "class Superclass:\n",
    "    def __init__(self, x):\n",
    "        self.x = x\n",
    "\n",
    "class Subclass(Superclass):\n",
    "    def __init__(self, x, y):\n",
    "        super().__init__(x)  # Call the superclass's __init__ method\n",
    "        self.y = y"
   ]
  },
  {
   "cell_type": "code",
   "execution_count": null,
   "id": "883e06ab",
   "metadata": {},
   "outputs": [],
   "source": [
    "4. How can you augment, instead of completely replacing, an inherited method?\n",
    "Answer:\n",
    "To augment, or extend, an inherited method without completely replacing it, you can call the superclass's method within the overriding method and then add the additional behavior. This is typically done using the super() function.\n",
    "\n",
    "python\n",
    "Copy code\n",
    "class Parent:\n",
    "    def method(self):\n",
    "        print(\"Original method in Parent\")\n",
    "\n",
    "class Child(Parent):\n",
    "    def method(self):\n",
    "        super().method()  # Call the parent class's method\n",
    "        print(\"Additional behavior in Child\")"
   ]
  },
  {
   "cell_type": "code",
   "execution_count": null,
   "id": "e8430171",
   "metadata": {},
   "outputs": [],
   "source": [
    "5. How is the local scope of a class different from that of a function?\n",
    "Answer:\n",
    "The local scope of a class in Python refers to the namespace within the class block. In this scope, you define class variables and methods. Class variables are shared among all instances of the class.\n",
    "\n",
    "On the other hand, the local scope of a function refers to the namespace within the function block. Variables defined inside a function are local to that function and are not accessible outside of it.\n",
    "\n",
    "In summary, the class scope is associated with the class itself and its instances, while the function scope is specific to the function and its parameters and variables."
   ]
  }
 ],
 "metadata": {
  "kernelspec": {
   "display_name": "Python 3 (ipykernel)",
   "language": "python",
   "name": "python3"
  },
  "language_info": {
   "codemirror_mode": {
    "name": "ipython",
    "version": 3
   },
   "file_extension": ".py",
   "mimetype": "text/x-python",
   "name": "python",
   "nbconvert_exporter": "python",
   "pygments_lexer": "ipython3",
   "version": "3.11.5"
  }
 },
 "nbformat": 4,
 "nbformat_minor": 5
}
