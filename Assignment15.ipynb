{
 "cells": [
  {
   "cell_type": "code",
   "execution_count": 2,
   "id": "f02edf56",
   "metadata": {},
   "outputs": [
    {
     "name": "stdout",
     "output_type": "stream",
     "text": [
      "Enter the value of n: 100\n",
      "Output: 0,35,70\n"
     ]
    }
   ],
   "source": [
    "#quetion1\n",
    "def divisible_by_5_and_7_generator(n):\n",
    "    for i in range(n + 1):\n",
    "        if i % 5 == 0 and i % 7 == 0:\n",
    "            yield i\n",
    "\n",
    "# Example usage:\n",
    "n = int(input(\"Enter the value of n: \"))\n",
    "result = list(divisible_by_5_and_7_generator(n))\n",
    "\n",
    "print(\"Output:\", \",\".join(map(str, result)))\n"
   ]
  },
  {
   "cell_type": "code",
   "execution_count": 3,
   "id": "8b03bb80",
   "metadata": {},
   "outputs": [
    {
     "name": "stdout",
     "output_type": "stream",
     "text": [
      "Enter the value of n: 100\n",
      "Output: 0,2,4,6,8,10,12,14,16,18,20,22,24,26,28,30,32,34,36,38,40,42,44,46,48,50,52,54,56,58,60,62,64,66,68,70,72,74,76,78,80,82,84,86,88,90,92,94,96,98,100\n"
     ]
    }
   ],
   "source": [
    "#quetion2\n",
    "\n",
    "def even_numbers_generator(n):\n",
    "    for i in range(0, n + 1, 2):\n",
    "        yield i\n",
    "\n",
    "# Example usage:\n",
    "n = int(input(\"Enter the value of n: \"))\n",
    "result = list(even_numbers_generator(n))\n",
    "\n",
    "print(\"Output:\", \",\".join(map(str, result)))\n"
   ]
  },
  {
   "cell_type": "code",
   "execution_count": 5,
   "id": "ee3ac0a4",
   "metadata": {},
   "outputs": [
    {
     "name": "stdout",
     "output_type": "stream",
     "text": [
      "Enter the value of n: 23\n"
     ]
    },
    {
     "ename": "NameError",
     "evalue": "cannot access free variable 'sequence' where it is not associated with a value in enclosing scope",
     "output_type": "error",
     "traceback": [
      "\u001b[1;31m---------------------------------------------------------------------------\u001b[0m",
      "\u001b[1;31mNameError\u001b[0m                                 Traceback (most recent call last)",
      "Cell \u001b[1;32mIn[5], line 8\u001b[0m\n\u001b[0;32m      6\u001b[0m \u001b[38;5;66;03m# Example usage:\u001b[39;00m\n\u001b[0;32m      7\u001b[0m n \u001b[38;5;241m=\u001b[39m \u001b[38;5;28mint\u001b[39m(\u001b[38;5;28minput\u001b[39m(\u001b[38;5;124m\"\u001b[39m\u001b[38;5;124mEnter the value of n: \u001b[39m\u001b[38;5;124m\"\u001b[39m))\n\u001b[1;32m----> 8\u001b[0m result \u001b[38;5;241m=\u001b[39m fibonacci_sequence(n)\n\u001b[0;32m     10\u001b[0m \u001b[38;5;28mprint\u001b[39m(\u001b[38;5;124m\"\u001b[39m\u001b[38;5;124mOutput:\u001b[39m\u001b[38;5;124m\"\u001b[39m, \u001b[38;5;124m\"\u001b[39m\u001b[38;5;124m,\u001b[39m\u001b[38;5;124m\"\u001b[39m\u001b[38;5;241m.\u001b[39mjoin(\u001b[38;5;28mmap\u001b[39m(\u001b[38;5;28mstr\u001b[39m, result)))\n",
      "Cell \u001b[1;32mIn[5], line 3\u001b[0m, in \u001b[0;36mfibonacci_sequence\u001b[1;34m(n)\u001b[0m\n\u001b[0;32m      2\u001b[0m \u001b[38;5;28;01mdef\u001b[39;00m \u001b[38;5;21mfibonacci_sequence\u001b[39m(n):\n\u001b[1;32m----> 3\u001b[0m     sequence \u001b[38;5;241m=\u001b[39m [\u001b[38;5;241m0\u001b[39m, \u001b[38;5;241m1\u001b[39m] \u001b[38;5;241m+\u001b[39m [\u001b[38;5;28msum\u001b[39m(sequence[\u001b[38;5;241m-\u001b[39m\u001b[38;5;241m2\u001b[39m:]) \u001b[38;5;28;01mfor\u001b[39;00m _ \u001b[38;5;129;01min\u001b[39;00m \u001b[38;5;28mrange\u001b[39m(\u001b[38;5;241m2\u001b[39m, n)]\n\u001b[0;32m      4\u001b[0m     \u001b[38;5;28;01mreturn\u001b[39;00m sequence\n",
      "Cell \u001b[1;32mIn[5], line 3\u001b[0m, in \u001b[0;36m<listcomp>\u001b[1;34m(.0)\u001b[0m\n\u001b[0;32m      2\u001b[0m \u001b[38;5;28;01mdef\u001b[39;00m \u001b[38;5;21mfibonacci_sequence\u001b[39m(n):\n\u001b[1;32m----> 3\u001b[0m     sequence \u001b[38;5;241m=\u001b[39m [\u001b[38;5;241m0\u001b[39m, \u001b[38;5;241m1\u001b[39m] \u001b[38;5;241m+\u001b[39m [\u001b[38;5;28msum\u001b[39m(sequence[\u001b[38;5;241m-\u001b[39m\u001b[38;5;241m2\u001b[39m:]) \u001b[38;5;28;01mfor\u001b[39;00m _ \u001b[38;5;129;01min\u001b[39;00m \u001b[38;5;28mrange\u001b[39m(\u001b[38;5;241m2\u001b[39m, n)]\n\u001b[0;32m      4\u001b[0m     \u001b[38;5;28;01mreturn\u001b[39;00m sequence\n",
      "\u001b[1;31mNameError\u001b[0m: cannot access free variable 'sequence' where it is not associated with a value in enclosing scope"
     ]
    }
   ],
   "source": [
    "#quetion3\n",
    "def fibonacci_sequence(n):\n",
    "    sequence = [0, 1] + [sum(sequence[-2:]) for _ in range(2, n)]\n",
    "    return sequence\n",
    "\n",
    "# Example usage:\n",
    "n = int(input(\"Enter the value of n: \"))\n",
    "result = fibonacci_sequence(n)\n",
    "\n",
    "print(\"Output:\", \",\".join(map(str, result)))\n"
   ]
  },
  {
   "cell_type": "code",
   "execution_count": 6,
   "id": "0c1d8f23",
   "metadata": {},
   "outputs": [
    {
     "name": "stdout",
     "output_type": "stream",
     "text": [
      "Enter an email address: omkarpawar253@gmail.com\n",
      "Output: omkarpawar253\n"
     ]
    }
   ],
   "source": [
    "#quetion4\n",
    "def extract_username(email):\n",
    "    username = email.split('@')[0]\n",
    "    return username\n",
    "\n",
    "# Example usage:\n",
    "email_address = input(\"Enter an email address: \")\n",
    "result = extract_username(email_address)\n",
    "\n",
    "print(\"Output:\", result)\n"
   ]
  },
  {
   "cell_type": "code",
   "execution_count": 7,
   "id": "3b8ec497",
   "metadata": {},
   "outputs": [
    {
     "name": "stdout",
     "output_type": "stream",
     "text": [
      "Area of Square: 25\n",
      "Area of Shape: 0\n"
     ]
    }
   ],
   "source": [
    "#quetions5\n",
    "class Shape:\n",
    "    def area(self):\n",
    "        return 0\n",
    "\n",
    "class Square(Shape):\n",
    "    def __init__(self, length):\n",
    "        self.length = length\n",
    "\n",
    "    def area(self):\n",
    "        return self.length**2\n",
    "\n",
    "# Example usage:\n",
    "square_obj = Square(5)\n",
    "print(\"Area of Square:\", square_obj.area())\n",
    "\n",
    "shape_obj = Shape()\n",
    "print(\"Area of Shape:\", shape_obj.area())\n"
   ]
  },
  {
   "cell_type": "code",
   "execution_count": null,
   "id": "4ab76f18",
   "metadata": {},
   "outputs": [],
   "source": []
  }
 ],
 "metadata": {
  "kernelspec": {
   "display_name": "Python 3 (ipykernel)",
   "language": "python",
   "name": "python3"
  },
  "language_info": {
   "codemirror_mode": {
    "name": "ipython",
    "version": 3
   },
   "file_extension": ".py",
   "mimetype": "text/x-python",
   "name": "python",
   "nbconvert_exporter": "python",
   "pygments_lexer": "ipython3",
   "version": "3.11.5"
  }
 },
 "nbformat": 4,
 "nbformat_minor": 5
}
