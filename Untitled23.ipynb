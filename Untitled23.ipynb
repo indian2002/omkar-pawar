{
 "cells": [
  {
   "cell_type": "code",
   "execution_count": null,
   "id": "424cb9d2",
   "metadata": {},
   "outputs": [],
   "source": [
    "Q1: Describe three applications for exception processing.\n",
    "Error Handling: Exception processing is commonly used for handling errors that may occur during the execution of a program. This includes situations where invalid input is provided, files cannot be opened, or network connections fail.\n",
    "\n",
    "Resource Management: Exceptions can be used to manage resources such as files, network connections, or database connections. By catching exceptions, you can ensure proper cleanup and release of resources even if an error occurs.\n",
    "\n",
    "Flow Control: Exceptions provide a mechanism for altering the normal flow of program execution. For example, you can use exceptions to break out of nested loops or terminate a function prematurely based on certain conditions."
   ]
  },
  {
   "cell_type": "code",
   "execution_count": null,
   "id": "2fa88011",
   "metadata": {},
   "outputs": [],
   "source": [
    "Q2: What happens if you don't do something extra to treat an exception?\n",
    "Answer: If an exception is not handled (caught) by the program, it will propagate up the call stack until it reaches the top-level script. If the exception is still not handled at the top level, the program will terminate, and an error message will be displayed, indicating the type of exception and the traceback."
   ]
  },
  {
   "cell_type": "code",
   "execution_count": null,
   "id": "7d6d0015",
   "metadata": {},
   "outputs": [],
   "source": [
    "Q3: What are your options for recovering from an exception in your script?\n",
    "Answer: There are several options for recovering from an exception:\n",
    "\n",
    "Catch and Handle: Use a try and except block to catch the exception and execute specific code to handle the error gracefully.\n",
    "\n",
    "Reraise Exception: Catch the exception, perform some actions, and then re-raise the exception using raise to allow it to propagate further.\n",
    "\n",
    "Cleanup Actions: Use a finally block to specify cleanup actions that should be executed regardless of whether an exception occurred or not."
   ]
  },
  {
   "cell_type": "code",
   "execution_count": null,
   "id": "cb568a25",
   "metadata": {},
   "outputs": [],
   "source": [
    "Q4: Describe two methods for triggering exceptions in your script.\n",
    "Explicitly Raising Exceptions:\n",
    "\n",
    "python\n",
    "Copy code\n",
    "raise ValueError(\"This is a custom exception message.\")\n",
    "IndexError Example:\n",
    "\n",
    "python\n",
    "Copy code\n",
    "my_list = [1, 2, 3]\n",
    "try:\n",
    "    print(my_list[5])  # This will raise an IndexError\n",
    "except IndexError as e:\n",
    "    print(f\"IndexError: {e}\")"
   ]
  },
  {
   "cell_type": "code",
   "execution_count": null,
   "id": "52741208",
   "metadata": {},
   "outputs": [],
   "source": [
    "Q5: Identify two methods for specifying actions to be executed at termination time, regardless of whether or not an exception exists.\n",
    "Using a finally Block:\n",
    "\n",
    "python\n",
    "Copy code\n",
    "try:\n",
    "    # Code that may raise an exception\n",
    "except SomeException as e:\n",
    "    # Exception handling code\n",
    "finally:\n",
    "    # Code to be executed regardless of whether an exception occurred or not\n",
    "Using the atexit Module:\n",
    "The atexit module provides a way to register functions to be called when a program is about to exit.\n",
    "\n",
    "python\n",
    "Copy code\n",
    "import atexit\n",
    "\n",
    "def exit_handler():\n",
    "    print(\"Exiting program.\")\n",
    "\n",
    "atexit.register(exit_handler)\n",
    "Both methods ensure that specified actions are executed when the program terminates, whether it's due to normal completion or an unhandled exception"
   ]
  }
 ],
 "metadata": {
  "kernelspec": {
   "display_name": "Python 3 (ipykernel)",
   "language": "python",
   "name": "python3"
  },
  "language_info": {
   "codemirror_mode": {
    "name": "ipython",
    "version": 3
   },
   "file_extension": ".py",
   "mimetype": "text/x-python",
   "name": "python",
   "nbconvert_exporter": "python",
   "pygments_lexer": "ipython3",
   "version": "3.11.5"
  }
 },
 "nbformat": 4,
 "nbformat_minor": 5
}
