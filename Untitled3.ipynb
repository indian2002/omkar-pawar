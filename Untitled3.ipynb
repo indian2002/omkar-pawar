{
 "cells": [
  {
   "cell_type": "code",
   "execution_count": null,
   "id": "ffa0b640",
   "metadata": {},
   "outputs": [],
   "source": [
    "Question 1\n",
    "Create a function that takes a number as an argument and returns True or False depending\n",
    "on whether the number is symmetrical or not. A number is symmetrical when it is the same as\n",
    "its reverse.\n",
    "Examples\n",
    "is_symmetrical(7227) ➞ True\n",
    "is_symmetrical(12567) ➞ False\n",
    "is_symmetrical(44444444) ➞ True\n",
    "is_symmetrical(9939) ➞ False\n",
    "is_symmetrical(1112111) ➞ True\n",
    "\n",
    "Question 2\n",
    "Given a string of numbers separated by a comma and space, return the product of the\n",
    "numbers.\n",
    "Examples\n",
    "multiply_nums(&quot;2, 3&quot;) ➞ 6\n",
    "multiply_nums(&quot;1, 2, 3, 4&quot;) ➞ 24\n",
    "multiply_nums(&quot;54, 75, 453, 0&quot;) ➞ 0\n",
    "multiply_nums(&quot;10, -2&quot;) ➞ -20\n",
    "\n",
    "Question 3\n",
    "Create a function that squares every digit of a number.\n",
    "Examples\n",
    "square_digits(9119) ➞ 811181\n",
    "square_digits(2483) ➞ 416649\n",
    "square_digits(3212) ➞ 9414\n",
    "Notes\n",
    "The function receives an integer and must return an integer.\n",
    "\n",
    "Question 4\n",
    "Create a function that sorts a list and removes all duplicate items from it.\n",
    "Examples\n",
    "setify([1, 3, 3, 5, 5]) ➞ [1, 3, 5]\n",
    "setify([4, 4, 4, 4]) ➞ [4]\n",
    "setify([5, 7, 8, 9, 10, 15]) ➞ [5, 7, 8, 9, 10, 15]\n",
    "setify([3, 3, 3, 2, 1]) ➞ [1, 2, 3]\n",
    "\n",
    "Question 5\n",
    "Create a function that returns the mean of all digits.\n",
    "Examples\n",
    "mean(42) ➞ 3\n",
    "mean(12345) ➞ 3\n",
    "mean(666) ➞ 6\n",
    "Notes\n",
    " The mean of all digits is the sum of digits / how many digits there are (e.g. mean of digits in\n",
    "512 is (5+1+2)/3(number of digits) = 8/3=2).\n",
    " The mean will always be an integer."
   ]
  },
  {
   "cell_type": "code",
   "execution_count": 1,
   "id": "8dd8ac7f",
   "metadata": {},
   "outputs": [
    {
     "name": "stdout",
     "output_type": "stream",
     "text": [
      "True\n",
      "False\n",
      "True\n",
      "False\n",
      "True\n"
     ]
    }
   ],
   "source": [
    "#QUE1\n",
    "def is_symmetrical(num):\n",
    "    num_str = str(num)\n",
    "    return num_str == num_str[::-1]\n",
    "\n",
    "# Test cases\n",
    "print(is_symmetrical(7227))       # True\n",
    "print(is_symmetrical(12567))      # False\n",
    "print(is_symmetrical(44444444))   # True\n",
    "print(is_symmetrical(9939))       # False\n",
    "print(is_symmetrical(1112111))     # True\n"
   ]
  },
  {
   "cell_type": "code",
   "execution_count": 2,
   "id": "c62350d0",
   "metadata": {},
   "outputs": [
    {
     "name": "stdout",
     "output_type": "stream",
     "text": [
      "6\n",
      "24\n",
      "0\n",
      "-20\n"
     ]
    }
   ],
   "source": [
    "#Que2\n",
    "def multiply_nums(nums_str):\n",
    "    nums = [int(x) for x in nums_str.split(\", \")]\n",
    "    result = 1\n",
    "    for num in nums:\n",
    "        result *= num\n",
    "    return result\n",
    "\n",
    "# Test cases\n",
    "print(multiply_nums(\"2, 3\"))           # 6\n",
    "print(multiply_nums(\"1, 2, 3, 4\"))      # 24\n",
    "print(multiply_nums(\"54, 75, 453, 0\"))  # 0\n",
    "print(multiply_nums(\"10, -2\"))          # -20\n"
   ]
  },
  {
   "cell_type": "code",
   "execution_count": 3,
   "id": "ecd8af39",
   "metadata": {},
   "outputs": [
    {
     "name": "stdout",
     "output_type": "stream",
     "text": [
      "811181\n",
      "416649\n",
      "9414\n"
     ]
    }
   ],
   "source": [
    "#QUE3\n",
    "def square_digits(num):\n",
    "    num_str = str(num)\n",
    "    result = int(\"\".join(str(int(digit) ** 2) for digit in num_str))\n",
    "    return result\n",
    "\n",
    "# Test cases\n",
    "print(square_digits(9119))  # 811181\n",
    "print(square_digits(2483))  # 416649\n",
    "print(square_digits(3212))  # 9414\n"
   ]
  },
  {
   "cell_type": "code",
   "execution_count": 4,
   "id": "dc042684",
   "metadata": {},
   "outputs": [
    {
     "name": "stdout",
     "output_type": "stream",
     "text": [
      "[1, 3, 5]\n",
      "[4]\n",
      "[5, 7, 8, 9, 10, 15]\n",
      "[1, 2, 3]\n"
     ]
    }
   ],
   "source": [
    "#QUE4\n",
    "def setify(lst):\n",
    "    return list(set(lst))\n",
    "\n",
    "# Test cases\n",
    "print(setify([1, 3, 3, 5, 5]))          # [1, 3, 5]\n",
    "print(setify([4, 4, 4, 4]))              # [4]\n",
    "print(setify([5, 7, 8, 9, 10, 15]))      # [5, 7, 8, 9, 10, 15]\n",
    "print(setify([3, 3, 3, 2, 1]))          # [1, 2, 3]\n"
   ]
  },
  {
   "cell_type": "code",
   "execution_count": 5,
   "id": "db075720",
   "metadata": {},
   "outputs": [
    {
     "name": "stdout",
     "output_type": "stream",
     "text": [
      "3\n",
      "3\n",
      "6\n"
     ]
    }
   ],
   "source": [
    "#qUE5\n",
    "def mean(num):\n",
    "    num_str = str(num)\n",
    "    return sum(int(digit) for digit in num_str) // len(num_str)\n",
    "\n",
    "# Test cases\n",
    "print(mean(42))       # 3\n",
    "print(mean(12345))    # 3\n",
    "print(mean(666))      # 6\n"
   ]
  },
  {
   "cell_type": "code",
   "execution_count": null,
   "id": "daccfc30",
   "metadata": {},
   "outputs": [],
   "source": []
  }
 ],
 "metadata": {
  "kernelspec": {
   "display_name": "Python 3 (ipykernel)",
   "language": "python",
   "name": "python3"
  },
  "language_info": {
   "codemirror_mode": {
    "name": "ipython",
    "version": 3
   },
   "file_extension": ".py",
   "mimetype": "text/x-python",
   "name": "python",
   "nbconvert_exporter": "python",
   "pygments_lexer": "ipython3",
   "version": "3.11.5"
  }
 },
 "nbformat": 4,
 "nbformat_minor": 5
}
