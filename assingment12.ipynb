{
 "cells": [
  {
   "cell_type": "code",
   "execution_count": 1,
   "id": "501d931b",
   "metadata": {},
   "outputs": [
    {
     "ename": "SyntaxError",
     "evalue": "invalid syntax (2479152318.py, line 6)",
     "output_type": "error",
     "traceback": [
      "\u001b[1;36m  Cell \u001b[1;32mIn[1], line 6\u001b[1;36m\u001b[0m\n\u001b[1;33m    6. Write a Python program to check order of character in string using OrderedDict()?\u001b[0m\n\u001b[1;37m       ^\u001b[0m\n\u001b[1;31mSyntaxError\u001b[0m\u001b[1;31m:\u001b[0m invalid syntax\n"
     ]
    }
   ],
   "source": [
    "1. Write a Python program to Extract Unique values dictionary values?\n",
    "2. Write a Python program to find the sum of all items in a dictionary?\n",
    "3. Write a Python program to Merging two Dictionaries?\n",
    "4. Write a Python program to convert key-values list to flat dictionary?\n",
    "5. Write a Python program to insertion at the beginning in OrderedDict?\n",
    "6. Write a Python program to check order of character in string using OrderedDict()?\n",
    "7. Write a Python program to sort Python Dictionaries by Key or Value?"
   ]
  },
  {
   "cell_type": "code",
   "execution_count": 2,
   "id": "b6d2e992",
   "metadata": {},
   "outputs": [
    {
     "name": "stdout",
     "output_type": "stream",
     "text": [
      "[1, 2, 3, 4, 5, 6]\n"
     ]
    }
   ],
   "source": [
    "#1. Write a Python program to Extract Unique values dictionary values?\n",
    "def extract_unique_values(dictionary):\n",
    "    unique_values = set()\n",
    "    for values in dictionary.values():\n",
    "        if isinstance(values, list):\n",
    "            unique_values.update(values)\n",
    "        else:\n",
    "            unique_values.add(values)\n",
    "    return list(unique_values)\n",
    "\n",
    "# Example usage:\n",
    "sample_dict = {'a': [1, 2, 3], 'b': [2, 3, 4], 'c': [4, 5, 6]}\n",
    "result = extract_unique_values(sample_dict)\n",
    "print(result)\n",
    "\n"
   ]
  },
  {
   "cell_type": "code",
   "execution_count": 3,
   "id": "ac7a352e",
   "metadata": {},
   "outputs": [
    {
     "name": "stdout",
     "output_type": "stream",
     "text": [
      "60\n"
     ]
    }
   ],
   "source": [
    "#2. Write a Python program to find the sum of all items in a dictionary?\n",
    "def sum_of_dictionary_items(dictionary):\n",
    "    return sum(dictionary.values())\n",
    "\n",
    "# Example usage:\n",
    "sample_dict = {'a': 10, 'b': 20, 'c': 30}\n",
    "result = sum_of_dictionary_items(sample_dict)\n",
    "print(result)\n"
   ]
  },
  {
   "cell_type": "code",
   "execution_count": 4,
   "id": "fdeddf72",
   "metadata": {},
   "outputs": [
    {
     "name": "stdout",
     "output_type": "stream",
     "text": [
      "{'a': 10, 'b': 30, 'c': 40}\n"
     ]
    }
   ],
   "source": [
    "#3. Write a Python program to Merging two Dictionaries?\n",
    "def merge_dictionaries(dict1, dict2):\n",
    "    merged_dict = {**dict1, **dict2}\n",
    "    return merged_dict\n",
    "\n",
    "# Example usage:\n",
    "dict1 = {'a': 10, 'b': 20}\n",
    "dict2 = {'b': 30, 'c': 40}\n",
    "result = merge_dictionaries(dict1, dict2)\n",
    "print(result)\n"
   ]
  },
  {
   "cell_type": "code",
   "execution_count": 5,
   "id": "58594b6e",
   "metadata": {},
   "outputs": [
    {
     "name": "stdout",
     "output_type": "stream",
     "text": [
      "{'a': 10, 'b': 20, 'c': 30}\n"
     ]
    }
   ],
   "source": [
    "#4. Write a Python program to convert key-values list to flat dictionary?\n",
    "def list_to_flat_dict(key_value_list):\n",
    "    flat_dict = dict(key_value_list)\n",
    "    return flat_dict\n",
    "\n",
    "# Example usage:\n",
    "key_value_list = [('a', 10), ('b', 20), ('c', 30)]\n",
    "result = list_to_flat_dict(key_value_list)\n",
    "print(result)\n"
   ]
  },
  {
   "cell_type": "code",
   "execution_count": 6,
   "id": "64197cf4",
   "metadata": {},
   "outputs": [
    {
     "name": "stdout",
     "output_type": "stream",
     "text": [
      "OrderedDict([('x', 5), ('a', 10), ('b', 20), ('c', 30)])\n"
     ]
    }
   ],
   "source": [
    "#5. Write a Python program to insertion at the beginning in OrderedDict?\n",
    "from collections import OrderedDict\n",
    "\n",
    "def insert_at_beginning(ordered_dict, key, value):\n",
    "    ordered_dict.update({key: value})\n",
    "    ordered_dict.move_to_end(key, last=False)\n",
    "\n",
    "# Example usage:\n",
    "ordered_dict = OrderedDict([('a', 10), ('b', 20), ('c', 30)])\n",
    "insert_at_beginning(ordered_dict, 'x', 5)\n",
    "print(ordered_dict)\n"
   ]
  },
  {
   "cell_type": "code",
   "execution_count": 7,
   "id": "77423c07",
   "metadata": {},
   "outputs": [
    {
     "name": "stdout",
     "output_type": "stream",
     "text": [
      "True\n"
     ]
    }
   ],
   "source": [
    "#6. Write a Python program to check order of character in string using OrderedDict()?\n",
    "from collections import OrderedDict\n",
    "\n",
    "def check_order_of_characters(input_str, pattern):\n",
    "    od = OrderedDict.fromkeys(input_str)\n",
    "\n",
    "    # Check if pattern is a subsequence of input_str\n",
    "    pattern_index = 0\n",
    "    for key in od:\n",
    "        if pattern_index == len(pattern):\n",
    "            break\n",
    "        if key == pattern[pattern_index]:\n",
    "            pattern_index += 1\n",
    "\n",
    "    return pattern_index == len(pattern)\n",
    "\n",
    "# Example usage:\n",
    "result = check_order_of_characters('hello world', 'hlo')\n",
    "print(result)\n"
   ]
  },
  {
   "cell_type": "code",
   "execution_count": 8,
   "id": "8a7ab389",
   "metadata": {},
   "outputs": [
    {
     "name": "stdout",
     "output_type": "stream",
     "text": [
      "Sorted by Key: {'a': 10, 'b': 30, 'c': 40}\n",
      "Sorted by Value: {'a': 10, 'b': 30, 'c': 40}\n"
     ]
    }
   ],
   "source": [
    "#7. Write a Python program to sort Python Dictionaries by Key or Value?\n",
    "def sort_dict_by_key(dictionary):\n",
    "    return dict(sorted(dictionary.items()))\n",
    "\n",
    "def sort_dict_by_value(dictionary):\n",
    "    return dict(sorted(dictionary.items(), key=lambda x: x[1]))\n",
    "\n",
    "# Example usage:\n",
    "sample_dict = {'b': 30, 'a': 10, 'c': 40}\n",
    "result_by_key = sort_dict_by_key(sample_dict)\n",
    "result_by_value = sort_dict_by_value(sample_dict)\n",
    "\n",
    "print(\"Sorted by Key:\", result_by_key)\n",
    "print(\"Sorted by Value:\", result_by_value)\n"
   ]
  },
  {
   "cell_type": "code",
   "execution_count": null,
   "id": "574b4640",
   "metadata": {},
   "outputs": [],
   "source": []
  }
 ],
 "metadata": {
  "kernelspec": {
   "display_name": "Python 3 (ipykernel)",
   "language": "python",
   "name": "python3"
  },
  "language_info": {
   "codemirror_mode": {
    "name": "ipython",
    "version": 3
   },
   "file_extension": ".py",
   "mimetype": "text/x-python",
   "name": "python",
   "nbconvert_exporter": "python",
   "pygments_lexer": "ipython3",
   "version": "3.11.5"
  }
 },
 "nbformat": 4,
 "nbformat_minor": 5
}
