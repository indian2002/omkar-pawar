{
 "cells": [
  {
   "cell_type": "code",
   "execution_count": 1,
   "id": "432a19e8-bb1f-4b68-bdf7-4a841963247a",
   "metadata": {},
   "outputs": [
    {
     "name": "stdout",
     "output_type": "stream",
     "text": [
      "The sum of the array [1, 2, 3, 4, 5] is: 15\n"
     ]
    }
   ],
   "source": [
    "#Write a Python Program to find sum of array?\n",
    "def find_sum_of_array(arr):\n",
    "    return sum(arr)\n",
    "\n",
    "# Example usage:\n",
    "my_array = [1, 2, 3, 4, 5]\n",
    "result = find_sum_of_array(my_array)\n",
    "\n",
    "print(f\"The sum of the array {my_array} is: {result}\")\n",
    "\n"
   ]
  },
  {
   "cell_type": "code",
   "execution_count": 2,
   "id": "fe8d58f3-47b6-4c94-89a4-8fd84010b92b",
   "metadata": {},
   "outputs": [
    {
     "name": "stdout",
     "output_type": "stream",
     "text": [
      "The largest element in the array [12, 34, 45, 67, 23, 89] is: 89\n"
     ]
    }
   ],
   "source": [
    "#2. Write a Python Program to find largest element in an array?\n",
    "def find_largest_element(arr):\n",
    "    if not arr:\n",
    "        return None  # Return None for empty arrays\n",
    "\n",
    "    max_element = arr[0]  # Assume the first element is the largest\n",
    "\n",
    "    for element in arr:\n",
    "        if element > max_element:\n",
    "            max_element = element  # Update max_element if a larger element is found\n",
    "\n",
    "    return max_element\n",
    "\n",
    "# Example usage:\n",
    "my_array = [12, 34, 45, 67, 23, 89]\n",
    "largest_element = find_largest_element(my_array)\n",
    "\n",
    "print(f\"The largest element in the array {my_array} is: {largest_element}\")\n"
   ]
  },
  {
   "cell_type": "code",
   "execution_count": 3,
   "id": "c2b9a52c-2f29-42e1-b6fb-3ce71f97f282",
   "metadata": {},
   "outputs": [
    {
     "name": "stdout",
     "output_type": "stream",
     "text": [
      "The original array: [1, 2, 3, 4, 5]\n",
      "The array after rotation by 2 positions: [3, 4, 5, 1, 2]\n"
     ]
    }
   ],
   "source": [
    "#3. Write a Python Program for array rotation?\n",
    "def rotate_array(arr, k):\n",
    "    n = len(arr)\n",
    "    k = k % n  # Handling cases where rotation count is greater than array length\n",
    "\n",
    "    # Rotate the array using slicing\n",
    "    rotated_array = arr[k:] + arr[:k]\n",
    "\n",
    "    return rotated_array\n",
    "\n",
    "# Example usage:\n",
    "my_array = [1, 2, 3, 4, 5]\n",
    "rotation_count = 2\n",
    "rotated_array = rotate_array(my_array, rotation_count)\n",
    "\n",
    "print(f\"The original array: {my_array}\")\n",
    "print(f\"The array after rotation by {rotation_count} positions: {rotated_array}\")\n"
   ]
  },
  {
   "cell_type": "code",
   "execution_count": null,
   "id": "7abe60ad-97dc-4447-ade4-57bd99c68dc2",
   "metadata": {},
   "outputs": [],
   "source": [
    "#4. Write a Python Program to Split the array and add the first part to the end?\n"
   ]
  }
 ],
 "metadata": {
  "kernelspec": {
   "display_name": "Python 3 (ipykernel)",
   "language": "python",
   "name": "python3"
  },
  "language_info": {
   "codemirror_mode": {
    "name": "ipython",
    "version": 3
   },
   "file_extension": ".py",
   "mimetype": "text/x-python",
   "name": "python",
   "nbconvert_exporter": "python",
   "pygments_lexer": "ipython3",
   "version": "3.10.6"
  }
 },
 "nbformat": 4,
 "nbformat_minor": 5
}
