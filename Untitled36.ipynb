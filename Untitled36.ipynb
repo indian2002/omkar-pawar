{
 "cells": [
  {
   "cell_type": "code",
   "execution_count": null,
   "id": "095bca6d",
   "metadata": {},
   "outputs": [],
   "source": [
    "Q1. Define the relationship between a class and its instances. Is it a one-to-one or a one-to-many\n",
    "partnership, for example?\n",
    "\n",
    "Q2. What kind of data is held only in an instance?\n",
    "\n",
    "Q3. What kind of knowledge is stored in a class?\n",
    "\n",
    "Q4. What exactly is a method, and how is it different from a regular function?\n",
    "\n",
    "Q5. Is inheritance supported in Python, and if so, what is the syntax?\n",
    "\n",
    "Q6. How much encapsulation (making instance or class variables private) does Python support?\n",
    "\n",
    "Q7. How do you distinguish between a class variable and an instance variable?\n",
    "\n",
    "Q8. When, if ever, can self be included in a class&#39;s method definitions?\n",
    "\n",
    "Q9. What is the difference between the _ _add_ _ and the _ _radd_ _ methods?\n",
    "\n",
    "Q10. When is it necessary to use a reflection method? When do you not need it, even though you\n",
    "support the operation in question?\n",
    "\n",
    "Q11. What is the _ _iadd_ _ method called?\n",
    "\n",
    "Q12. Is the _ _init_ _ method inherited by subclasses? What do you do if you need to customize its\n",
    "behavior within a subclass?"
   ]
  },
  {
   "cell_type": "code",
   "execution_count": null,
   "id": "8d81bb00",
   "metadata": {},
   "outputs": [],
   "source": [
    "Q1. The relationship between a class and its instances is a one-to-many partnership. A class serves as a blueprint or template for creating multiple instances, each of which represents a distinct object with its own set of attributes and behaviors.\n",
    "\n",
    "Q2. Data held only in an instance typically includes instance variables or attributes, which are specific to each individual object created from the class blueprint.\n",
    "\n",
    "Q3. Classes store knowledge in the form of class variables and methods. Class variables are shared among all instances of the class, while methods define the behaviors or actions that instances can perform.\n",
    "\n",
    "Q4. A method is a function that is associated with a class and is intended to operate on instances of that class. The key difference between a method and a regular function is that a method is defined within a class and can access and modify the class's attributes.\n",
    "\n",
    "Q5. Yes, inheritance is supported in Python. The syntax for inheritance in Python is as follows:\n",
    "   \n",
    "   ```python\n",
    "   class Subclass(Baseclass):\n",
    "       # Subclass definition\n",
    "   ```\n",
    "\n",
    "Q6. Python supports encapsulation to some extent through the use of access modifiers like private variables (denoted by a leading underscore). However, Python does not enforce strict encapsulation like some other languages.\n",
    "\n",
    "Q7. A class variable is shared among all instances of a class and is typically declared within the class but outside of any method. An instance variable, on the other hand, is specific to each instance and is usually declared within a method of the class using the `self` keyword.\n",
    "\n",
    "Q8. `self` should be included as the first parameter in a class's method definitions to reference the instance itself. It is used to access instance variables and methods within the class.\n",
    "\n",
    "Q9. The `__add__` method is called when using the `+` operator with an object, while the `__radd__` method is called when the object is on the right side of the `+` operator. \n",
    "\n",
    "Q10. Reflection methods, such as `getattr()` and `setattr()`, are necessary when you need to dynamically access or modify attributes of an object at runtime, especially when the attribute names are not known beforehand. You don't need reflection if you know the attribute names and can directly access them using dot notation.\n",
    "\n",
    "Q11. The `__iadd__` method is called when using the `+=` operator. It is used to implement the in-place addition operation.\n",
    "\n",
    "Q12. Yes, the `__init__` method is inherited by subclasses. If you need to customize its behavior within a subclass, you can override it by defining a new `__init__` method in the subclass. To still access the behavior of the parent class's `__init__` method, you can call it explicitly using `super()` within the subclass's `__init__` method."
   ]
  }
 ],
 "metadata": {
  "kernelspec": {
   "display_name": "Python 3 (ipykernel)",
   "language": "python",
   "name": "python3"
  },
  "language_info": {
   "codemirror_mode": {
    "name": "ipython",
    "version": 3
   },
   "file_extension": ".py",
   "mimetype": "text/x-python",
   "name": "python",
   "nbconvert_exporter": "python",
   "pygments_lexer": "ipython3",
   "version": "3.11.5"
  }
 },
 "nbformat": 4,
 "nbformat_minor": 5
}
