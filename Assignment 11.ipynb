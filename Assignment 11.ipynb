{
 "cells": [
  {
   "cell_type": "code",
   "execution_count": null,
   "id": "34c8e714-cbb2-4181-92b0-11fb15c2023d",
   "metadata": {},
   "outputs": [],
   "source": [
    "1. Write a Python program to find words which are greater than given length k?\n",
    "2. Write a Python program for removing i-th character from a string?\n",
    "3. Write a Python program to split and join a string?\n",
    "4. Write a Python to check if a given string is binary string or not?\n",
    "5. Write a Python program to find uncommon words from two Strings?\n",
    "6. Write a Python to find all duplicate characters in string?\n",
    "7. Write a Python Program to check if a string contains any special character?"
   ]
  },
  {
   "cell_type": "code",
   "execution_count": null,
   "id": "c61dde79-0a48-49db-90e8-1baa57609e95",
   "metadata": {},
   "outputs": [],
   "source": []
  },
  {
   "cell_type": "code",
   "execution_count": 1,
   "id": "fccaf90f-45fd-4ddc-a0b4-81d813aec64f",
   "metadata": {},
   "outputs": [
    {
     "name": "stdout",
     "output_type": "stream",
     "text": [
      "Words greater than length 5: ['banana', 'orange']\n"
     ]
    }
   ],
   "source": [
    "#1. Write a Python program to find words which are greater than given length k?\n",
    "\n",
    "def find_words_greater_than_k(word_list, k):\n",
    "    result = [word for word in word_list if len(word) > k]\n",
    "    return result\n",
    "\n",
    "# Example usage:\n",
    "word_list = [\"apple\", \"banana\", \"orange\", \"grape\", \"kiwi\", \"melon\"]\n",
    "k = 5\n",
    "result_list = find_words_greater_than_k(word_list, k)\n",
    "\n",
    "print(f\"Words greater than length {k}: {result_list}\")\n"
   ]
  },
  {
   "cell_type": "code",
   "execution_count": 2,
   "id": "925b4dd9-c24d-4220-8dfa-81df88e29ab9",
   "metadata": {},
   "outputs": [
    {
     "name": "stdout",
     "output_type": "stream",
     "text": [
      "String after removing character at index 3: exaple\n"
     ]
    }
   ],
   "source": [
    "#2. Write a Python program for removing i-th character from a string?\n",
    "def remove_ith_character(input_string, i):\n",
    "    result = input_string[:i] + input_string[i+1:]\n",
    "    return result\n",
    "\n",
    "# Example usage:\n",
    "input_str = \"example\"\n",
    "i = 3\n",
    "result_str = remove_ith_character(input_str, i)\n",
    "\n",
    "print(f\"String after removing character at index {i}: {result_str}\")\n"
   ]
  },
  {
   "cell_type": "code",
   "execution_count": 3,
   "id": "6526b927-a7db-43d8-be04-c9b4c350ed61",
   "metadata": {},
   "outputs": [
    {
     "name": "stdout",
     "output_type": "stream",
     "text": [
      "Original string: This is a sample string\n",
      "String after split and join: This-is-a-sample-string\n"
     ]
    }
   ],
   "source": [
    "#3. Write a Python program to split and join a string?\n",
    "def split_and_join(input_string):\n",
    "    words = input_string.split()\n",
    "    joined_string = \"-\".join(words)\n",
    "    return joined_string\n",
    "\n",
    "# Example usage:\n",
    "input_str = \"This is a sample string\"\n",
    "result_str = split_and_join(input_str)\n",
    "\n",
    "print(f\"Original string: {input_str}\")\n",
    "print(f\"String after split and join: {result_str}\")\n",
    "\n"
   ]
  },
  {
   "cell_type": "code",
   "execution_count": 4,
   "id": "7f2c015a-b09e-4290-afd2-4ad4f6c14f88",
   "metadata": {},
   "outputs": [
    {
     "name": "stdout",
     "output_type": "stream",
     "text": [
      "String after removing character at index 3: exaple\n"
     ]
    }
   ],
   "source": [
    "#4. Write a Python to check if a given string is binary string or not?\n",
    "def remove_ith_character(input_string, i):\n",
    "    result = input_string[:i] + input_string[i+1:]\n",
    "    return result\n",
    "\n",
    "# Example usage:\n",
    "input_str = \"example\"\n",
    "i = 3\n",
    "result_str = remove_ith_character(input_str, i)\n",
    "\n",
    "print(f\"String after removing character at index {i}: {result_str}\")\n"
   ]
  },
  {
   "cell_type": "code",
   "execution_count": 5,
   "id": "885d02bc-d3b1-43d8-9c3e-df5b49a8cf97",
   "metadata": {},
   "outputs": [
    {
     "name": "stdout",
     "output_type": "stream",
     "text": [
      "Uncommon words: ['second', 'first']\n"
     ]
    }
   ],
   "source": [
    "#5. Write a Python program to find uncommon words from two Strings?\n",
    "def find_uncommon_words(str1, str2):\n",
    "    set1 = set(str1.split())\n",
    "    set2 = set(str2.split())\n",
    "    uncommon_words = set1.symmetric_difference(set2)\n",
    "    return list(uncommon_words)\n",
    "\n",
    "# Example usage:\n",
    "string1 = \"This is the first string\"\n",
    "string2 = \"This is the second string\"\n",
    "result_list = find_uncommon_words(string1, string2)\n",
    "\n",
    "print(f\"Uncommon words: {result_list}\")\n"
   ]
  },
  {
   "cell_type": "code",
   "execution_count": 6,
   "id": "0c1998ef-5efa-48d2-8326-f6d231c37af1",
   "metadata": {},
   "outputs": [
    {
     "name": "stdout",
     "output_type": "stream",
     "text": [
      "Duplicate characters: ['r', 'm', 'g']\n"
     ]
    }
   ],
   "source": [
    "#6. Write a Python to find all duplicate characters in string?\n",
    "\n",
    "def find_duplicate_characters(input_string):\n",
    "    char_count = {}\n",
    "    duplicates = []\n",
    "\n",
    "    for char in input_string:\n",
    "        if char in char_count:\n",
    "            char_count[char] += 1\n",
    "            if char_count[char] == 2:\n",
    "                duplicates.append(char)\n",
    "        else:\n",
    "            char_count[char] = 1\n",
    "\n",
    "    return duplicates\n",
    "\n",
    "# Example usage:\n",
    "input_str = \"programming\"\n",
    "result_list = find_duplicate_characters(input_str)\n",
    "\n",
    "print(f\"Duplicate characters: {result_list}\")\n"
   ]
  },
  {
   "cell_type": "code",
   "execution_count": null,
   "id": "46e0be5f-0332-462e-9166-8ebdd1498e76",
   "metadata": {},
   "outputs": [],
   "source": []
  }
 ],
 "metadata": {
  "kernelspec": {
   "display_name": "Python 3 (ipykernel)",
   "language": "python",
   "name": "python3"
  },
  "language_info": {
   "codemirror_mode": {
    "name": "ipython",
    "version": 3
   },
   "file_extension": ".py",
   "mimetype": "text/x-python",
   "name": "python",
   "nbconvert_exporter": "python",
   "pygments_lexer": "ipython3",
   "version": "3.10.6"
  }
 },
 "nbformat": 4,
 "nbformat_minor": 5
}
