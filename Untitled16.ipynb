{
 "cells": [
  {
   "cell_type": "code",
   "execution_count": null,
   "id": "894fd3a7",
   "metadata": {},
   "outputs": [],
   "source": [
    "Q1. Is it permissible to use several import statements to import the same module? What would the\n",
    "goal be? Can you think of a situation where it would be beneficial?\n",
    "\n",
    "Q2. What are some of a module&#39;s characteristics? (Name at least one.)\n",
    "\n",
    "Q3. Circular importing, such as when two modules import each other, can lead to dependencies and\n",
    "bugs that aren&#39;t visible. How can you go about creating a program that avoids mutual importing?\n",
    "\n",
    "Q4. Why is _ _all_ _ in Python?\n",
    "\n",
    "Q5. In what situation is it useful to refer to the _ _name_ _ attribute or the string &#39;_ _main_ _&#39;?\n",
    "\n",
    "Q6. What are some of the benefits of attaching a program counter to the RPN interpreter\n",
    "application, which interprets an RPN script line by line?\n",
    "\n",
    "Q7. What are the minimum expressions or statements (or both) that you&#39;d need to render a basic\n",
    "programming language like RPN primitive but complete— that is, capable of carrying out any\n",
    "computerised task theoretically possible?"
   ]
  },
  {
   "cell_type": "code",
   "execution_count": null,
   "id": "1534cf36",
   "metadata": {},
   "outputs": [],
   "source": [
    "#Que1\n",
    "Yes, it is permissible to use several import statements to import the same module in Python. The goal might be to have multiple references to the same module in different parts of the code. This can be beneficial in situations where you want to use different names for the same module or when you want to import only specific components of the module in different parts of your code."
   ]
  },
  {
   "cell_type": "code",
   "execution_count": null,
   "id": "8fe617e4",
   "metadata": {},
   "outputs": [],
   "source": [
    "#Que2\n",
    "One characteristic of a module in Python is that it is a file containing Python definitions and statements. The file name becomes the module name, and it can contain variables, functions, and classes, which can be accessed in other Python files using import."
   ]
  },
  {
   "cell_type": "code",
   "execution_count": null,
   "id": "e89e9acf",
   "metadata": {},
   "outputs": [],
   "source": [
    "#Que3\n",
    "o avoid circular importing, you can reorganize your code or use a technique called \"importing within functions.\" Instead of importing at the beginning of the file, you import the module inside the function where you need it. This way, the importing only occurs when the function is called, helping to break the circular dependency."
   ]
  },
  {
   "cell_type": "code",
   "execution_count": null,
   "id": "2041c178",
   "metadata": {},
   "outputs": [],
   "source": [
    "Q4:\n",
    "The __all__ attribute in Python is a list containing the names of the attributes, functions, and classes that should be imported when using the from module import * syntax. It allows the module to specify what is considered public and should be part of the public interface when using the asterisk (*) import."
   ]
  },
  {
   "cell_type": "code",
   "execution_count": null,
   "id": "8fd48dc2",
   "metadata": {},
   "outputs": [],
   "source": [
    "Q5:\n",
    "The __name__ attribute in Python is a special variable that holds the name of the current module. When a Python script is executed, the __name__ attribute is set to \"__main__\" if the script is being run as the main program. This allows you to write code that runs only when the script is executed directly and not when it's imported as a module.\n",
    "\n"
   ]
  },
  {
   "cell_type": "code",
   "execution_count": null,
   "id": "82050f01",
   "metadata": {},
   "outputs": [],
   "source": [
    "Q6:\n",
    "Attaching a program counter to the RPN (Reverse Polish Notation) interpreter allows you to keep track of the position in the script. This can be useful for debugging, logging, or providing feedback to the user about the progress of script execution. It enables better control and understanding of the script's flow."
   ]
  },
  {
   "cell_type": "code",
   "execution_count": null,
   "id": "a6ca39a7",
   "metadata": {},
   "outputs": [],
   "source": [
    "Q7:\n",
    "To render a basic programming language like RPN primitive but complete, you would need at least the following:\n",
    "\n",
    "Stack: To store and manipulate data during script execution.\n",
    "Operators: Basic arithmetic and logical operators to perform computations.\n",
    "Conditional Statements: If statements for branching based on conditions.\n",
    "Loops: For iterative control flow.\n",
    "Functions or Subroutines: To encapsulate and reuse code.\n",
    "Input/Output Operations: To interact with the external environment.\n",
    "These elements would provide the necessary building blocks for a basic programming language capable of performing a wide range of tasks.\n",
    "\n",
    "\n",
    "\n",
    "\n",
    "\n"
   ]
  }
 ],
 "metadata": {
  "kernelspec": {
   "display_name": "Python 3 (ipykernel)",
   "language": "python",
   "name": "python3"
  },
  "language_info": {
   "codemirror_mode": {
    "name": "ipython",
    "version": 3
   },
   "file_extension": ".py",
   "mimetype": "text/x-python",
   "name": "python",
   "nbconvert_exporter": "python",
   "pygments_lexer": "ipython3",
   "version": "3.11.5"
  }
 },
 "nbformat": 4,
 "nbformat_minor": 5
}
