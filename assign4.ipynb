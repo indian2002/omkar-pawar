{
 "cells": [
  {
   "cell_type": "code",
   "execution_count": 4,
   "id": "2abad677-3751-40d3-a659-5c81f6448208",
   "metadata": {},
   "outputs": [
    {
     "name": "stdin",
     "output_type": "stream",
     "text": [
      "Enter a number:  4\n"
     ]
    },
    {
     "name": "stdout",
     "output_type": "stream",
     "text": [
      "The factorial of 4 is 24.\n"
     ]
    }
   ],
   "source": [
    "#1. Write a Python Program to Find the Factorial of a Number?\n",
    "# Function to calculate the factorial of a number\n",
    "def factorial(n):\n",
    "    if n == 0 or n == 1:\n",
    "        return 1\n",
    "    else:\n",
    "        return n * factorial(n - 1)\n",
    "\n",
    "# Taking input from the user\n",
    "user_input = int(input(\"Enter a number: \"))\n",
    "\n",
    "# Checking if the input is non-negative\n",
    "if user_input < 0:\n",
    "    print(\"Factorial is not defined for negative numbers.\")\n",
    "else:\n",
    "    result = factorial(user_input)\n",
    "    print(f\"The factorial of {user_input} is {result}.\")\n"
   ]
  },
  {
   "cell_type": "code",
   "execution_count": 9,
   "id": "77a1d703-1279-4fd9-9d6b-f43a97cd8201",
   "metadata": {},
   "outputs": [
    {
     "name": "stdin",
     "output_type": "stream",
     "text": [
      "Enter a number for the multiplication table:  2\n",
      "Enter the range for the table:  20\n"
     ]
    },
    {
     "name": "stdout",
     "output_type": "stream",
     "text": [
      "Multiplication Table for 2 up to 20:\n",
      "2 x 1 = 2\n",
      "2 x 2 = 4\n",
      "2 x 3 = 6\n",
      "2 x 4 = 8\n",
      "2 x 5 = 10\n",
      "2 x 6 = 12\n",
      "2 x 7 = 14\n",
      "2 x 8 = 16\n",
      "2 x 9 = 18\n",
      "2 x 10 = 20\n",
      "2 x 11 = 22\n",
      "2 x 12 = 24\n",
      "2 x 13 = 26\n",
      "2 x 14 = 28\n",
      "2 x 15 = 30\n",
      "2 x 16 = 32\n",
      "2 x 17 = 34\n",
      "2 x 18 = 36\n",
      "2 x 19 = 38\n",
      "2 x 20 = 40\n"
     ]
    }
   ],
   "source": [
    "#2. Write a Python Program to Display the multiplication Table?\n",
    "\n",
    "# Function to display the multiplication table\n",
    "def multiplication_table(number, table_range):\n",
    "    print(f\"Multiplication Table for {number} up to {table_range}:\")\n",
    "\n",
    "    for i in range(1, table_range + 1):\n",
    "        result = number * i\n",
    "        print(f\"{number} x {i} = {result}\")\n",
    "\n",
    "# Taking input from the user\n",
    "user_input = int(input(\"Enter a number for the multiplication table: \"))\n",
    "range_input = int(input(\"Enter the range for the table: \"))\n",
    "\n",
    "# Calling the function to display the multiplication table\n",
    "multiplication_table(user_input, range_input)\n"
   ]
  },
  {
   "cell_type": "code",
   "execution_count": 10,
   "id": "ca458f04-cc75-4fc5-8207-79346e24833b",
   "metadata": {},
   "outputs": [
    {
     "name": "stdin",
     "output_type": "stream",
     "text": [
      "Enter the number of terms for the Fibonacci sequence:  2\n"
     ]
    },
    {
     "name": "stdout",
     "output_type": "stream",
     "text": [
      "Fibonacci Sequence up to 2 terms: [0, 1]\n"
     ]
    }
   ],
   "source": [
    "#3. Write a Python Program to Print the Fibonacci sequence?\n",
    "# Function to generate Fibonacci sequence\n",
    "def fibonacci_sequence(n):\n",
    "    fib_sequence = [0, 1]\n",
    "\n",
    "    while len(fib_sequence) < n:\n",
    "        next_term = fib_sequence[-1] + fib_sequence[-2]\n",
    "        fib_sequence.append(next_term)\n",
    "\n",
    "    return fib_sequence\n",
    "\n",
    "# Taking input from the user\n",
    "num_terms = int(input(\"Enter the number of terms for the Fibonacci sequence: \"))\n",
    "\n",
    "# Calling the function to generate and print the Fibonacci sequence\n",
    "result_sequence = fibonacci_sequence(num_terms)\n",
    "print(f\"Fibonacci Sequence up to {num_terms} terms: {result_sequence}\")\n"
   ]
  },
  {
   "cell_type": "code",
   "execution_count": 11,
   "id": "e485eee7-91d5-4d01-9357-1dbc28c96434",
   "metadata": {},
   "outputs": [
    {
     "name": "stdin",
     "output_type": "stream",
     "text": [
      "Enter a number:  30\n"
     ]
    },
    {
     "name": "stdout",
     "output_type": "stream",
     "text": [
      "30 is not an Armstrong Number.\n"
     ]
    }
   ],
   "source": [
    "# Function to check if a number is an Armstrong number\n",
    "def is_armstrong_number(number):\n",
    "    num_str = str(number)\n",
    "    num_digits = len(num_str)\n",
    "    armstrong_sum = sum(int(digit) ** num_digits for digit in num_str)\n",
    "    \n",
    "    return armstrong_sum == number\n",
    "\n",
    "# Taking input from the user\n",
    "user_input = int(input(\"Enter a number: \"))\n",
    "\n",
    "# Checking if the number is an Armstrong number\n",
    "if is_armstrong_number(user_input):\n",
    "    print(f\"{user_input} is an Armstrong Number.\")\n",
    "else:\n",
    "    print(f\"{user_input} is not an Armstrong Number.\")\n"
   ]
  },
  {
   "cell_type": "code",
   "execution_count": 17,
   "id": "1804c4ae-2ca4-4858-8ff7-8e041870c520",
   "metadata": {},
   "outputs": [
    {
     "name": "stdin",
     "output_type": "stream",
     "text": [
      "Enter the start of the interval:  20\n",
      "Enter the end of the interval:  55\n"
     ]
    },
    {
     "name": "stdout",
     "output_type": "stream",
     "text": [
      "Armstrong Numbers in the interval 20 to 55: []\n"
     ]
    }
   ],
   "source": [
    "#5. Write a Python Program to Find Armstrong Number in an Interval?\n",
    "# Function to check if a number is an Armstrong number\n",
    "def is_armstrong_number(number):\n",
    "    num_str = str(number)\n",
    "    num_digits = len(num_str)\n",
    "    armstrong_sum = sum(int(digit) ** num_digits for digit in num_str)\n",
    "    \n",
    "    return armstrong_sum == number\n",
    "\n",
    "# Function to find Armstrong numbers in an interval\n",
    "def find_armstrong_numbers(start, end):\n",
    "    armstrong_numbers = []\n",
    "    for num in range(start, end + 1):\n",
    "        if is_armstrong_number(num):\n",
    "            armstrong_numbers.append(num)\n",
    "    return armstrong_numbers\n",
    "\n",
    "# Taking input from the user\n",
    "start_range = int(input(\"Enter the start of the interval: \"))\n",
    "end_range = int(input(\"Enter the end of the interval: \"))\n",
    "\n",
    "# Finding and printing Armstrong numbers in the specified interval\n",
    "armstrong_numbers = find_armstrong_numbers(start_range, end_range)\n",
    "print(f\"Armstrong Numbers in the interval {start_range} to {end_range}: {armstrong_numbers}\")\n",
    "\n"
   ]
  },
  {
   "cell_type": "code",
   "execution_count": null,
   "id": "2eb946e8-7348-4ed1-b257-0756e6a238ee",
   "metadata": {},
   "outputs": [],
   "source": []
  }
 ],
 "metadata": {
  "kernelspec": {
   "display_name": "Python 3 (ipykernel)",
   "language": "python",
   "name": "python3"
  },
  "language_info": {
   "codemirror_mode": {
    "name": "ipython",
    "version": 3
   },
   "file_extension": ".py",
   "mimetype": "text/x-python",
   "name": "python",
   "nbconvert_exporter": "python",
   "pygments_lexer": "ipython3",
   "version": "3.10.6"
  }
 },
 "nbformat": 4,
 "nbformat_minor": 5
}
