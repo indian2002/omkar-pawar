{
 "cells": [
  {
   "cell_type": "code",
   "execution_count": null,
   "id": "791a79cd",
   "metadata": {},
   "outputs": [],
   "source": [
    "Q1. What are the two latest user-defined exception constraints in Python 3.X?\n",
    "\n",
    "Q2. How are class-based exceptions that have been raised matched to handlers?\n",
    "\n",
    "Q3. Describe two methods for attaching context information to exception artefacts.\n",
    "\n",
    "Q4. Describe two methods for specifying the text of an exception object&#39;s error message.\n",
    "\n",
    "Q5. Why do you no longer use string-based exceptions?"
   ]
  },
  {
   "cell_type": "code",
   "execution_count": null,
   "id": "3befd286",
   "metadata": {},
   "outputs": [],
   "source": [
    "Q1. As of my last update, there were no specific constraints introduced for user-defined exceptions in Python 3.x. User-defined exceptions are typically defined by creating a new class that derives from the built-in Exception class."
   ]
  },
  {
   "cell_type": "code",
   "execution_count": null,
   "id": "4c123735",
   "metadata": {},
   "outputs": [],
   "source": [
    "Q2. Class-based exceptions that have been raised are matched to handlers based on their inheritance hierarchy. The handlers are checked in the order in which they appear, and the first one whose exception type matches or is a base class of the raised exception is executed."
   ]
  },
  {
   "cell_type": "code",
   "execution_count": null,
   "id": "ebc95b05",
   "metadata": {},
   "outputs": [],
   "source": [
    "Q3. Two methods for attaching context information to exception artifacts are:\n",
    "\n",
    "Using the with_traceback method: This method allows you to attach or replace the traceback information associated with an exception.\n",
    "Custom attributes: You can add custom attributes to your exception class to store additional context information."
   ]
  },
  {
   "cell_type": "code",
   "execution_count": null,
   "id": "c34d0a77",
   "metadata": {},
   "outputs": [],
   "source": [
    "Q4. Two methods for specifying the text of an exception object's error message are:\n",
    "\n",
    "Overriding the __str__ method: By overriding this method in your exception class, you can customize the string representation of the exception when it is converted to a string.\n",
    "Using the args attribute: The args attribute of an exception object can be set to a tuple of arguments that will be used as the error message.\n"
   ]
  },
  {
   "cell_type": "code",
   "execution_count": null,
   "id": "228ba0e8",
   "metadata": {},
   "outputs": [],
   "source": [
    "Q5. String-based exceptions (raising exceptions with strings as the argument) are discouraged because they do not provide a clear and structured way to handle different types of exceptions. Using class-based exceptions allows for more precise exception handling and enables better organization of exception types. Additionally, class-based exceptions can include additional information and behaviors through methods and attributes, providing a more robust way to handle errors."
   ]
  }
 ],
 "metadata": {
  "kernelspec": {
   "display_name": "Python 3 (ipykernel)",
   "language": "python",
   "name": "python3"
  },
  "language_info": {
   "codemirror_mode": {
    "name": "ipython",
    "version": 3
   },
   "file_extension": ".py",
   "mimetype": "text/x-python",
   "name": "python",
   "nbconvert_exporter": "python",
   "pygments_lexer": "ipython3",
   "version": "3.11.5"
  }
 },
 "nbformat": 4,
 "nbformat_minor": 5
}
