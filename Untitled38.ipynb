{
 "cells": [
  {
   "cell_type": "code",
   "execution_count": null,
   "id": "496f5b6a",
   "metadata": {},
   "outputs": [],
   "source": [
    "Q1. What is a probability distribution, exactly? If the values are meant to be random, how can you\n",
    "predict them at all?\n",
    "\n",
    "Q2. Is there a distinction between true random numbers and pseudo-random numbers, if there is\n",
    "one? Why are the latter considered “good enough”?\n",
    "\n",
    "Q3. What are the two main factors that influence the behaviour of a &quot;normal&quot; probability distribution?\n",
    "\n",
    "Q4. Provide a real-life example of a normal distribution.\n",
    "\n",
    "Q5. In the short term, how can you expect a probability distribution to behave? What do you think will\n",
    "happen as the number of trials grows?\n",
    "\n",
    "Q6. What kind of object can be shuffled by using random.shuffle?\n",
    "\n",
    "Q7. Describe the math package&#39;s general categories of functions.\n",
    "\n",
    "Q8. What is the relationship between exponentiation and logarithms?\n",
    "\n",
    "Q9. What are the three logarithmic functions that Python supports?"
   ]
  },
  {
   "cell_type": "code",
   "execution_count": null,
   "id": "0b1be455",
   "metadata": {},
   "outputs": [],
   "source": [
    "Q1. **Probability Distribution:**\n",
    "   - A probability distribution is a mathematical function that describes the likelihood of different outcomes in a sample space of a random phenomenon. It provides a systematic way to assign probabilities to different events or values.\n",
    "   - While the individual values may be random and unpredictable, a probability distribution describes the overall pattern or behavior of these values.\n",
    "\n",
    "Q2. **True Random vs Pseudo-Random Numbers:**\n",
    "   - True random numbers are generated from physical processes believed to be truly random, such as atmospheric noise or radioactive decay. They are unpredictable and non-reproducible.\n",
    "   - Pseudo-random numbers, on the other hand, are generated using deterministic algorithms. While they appear random, they are generated from a seed value, making them reproducible given the same seed.\n",
    "   - Pseudo-random numbers are considered \"good enough\" for many applications because they exhibit statistical properties similar to true random numbers and are efficient to generate.\n",
    "\n",
    "Q3. **Factors Influencing Normal Distribution:**\n",
    "   - The two main factors influencing the behavior of a normal probability distribution are the mean (μ) and the standard deviation (σ).\n",
    "   - The mean determines the central tendency or average of the distribution, while the standard deviation measures the dispersion or spread of the values around the mean.\n",
    "\n",
    "Q4. **Real-life Example of Normal Distribution:**\n",
    "   - Heights of adult humans are often cited as an example of a normal distribution. In a large population, heights tend to cluster around the average height, with relatively few individuals being significantly taller or shorter.\n",
    "\n",
    "Q5. **Short Term vs Long Term Behavior of Probability Distribution:**\n",
    "   - In the short term, the behavior of a probability distribution may exhibit randomness or variability.\n",
    "   - However, as the number of trials or observations grows, the distribution tends to converge to its theoretical or expected shape, following the laws of probability and becoming more predictable.\n",
    "\n",
    "Q6. **Objects Shuffled by random.shuffle:**\n",
    "   - The `random.shuffle()` function can shuffle sequences like lists or arrays. It rearranges the elements of the sequence randomly.\n",
    "\n",
    "Q7. **Categories of Functions in the math Package:**\n",
    "   - The math package in Python generally includes functions related to mathematical operations, such as arithmetic functions, trigonometric functions, logarithmic functions, exponential functions, etc.\n",
    "\n",
    "Q8. **Relationship between Exponentiation and Logarithms:**\n",
    "   - Exponentiation and logarithms are inverse operations of each other. If \\(a^b = c\\), then \\(\\log_a(c) = b\\). Logarithms essentially answer the question \"to what power must I raise the base to get the argument?\"\n",
    "\n",
    "Q9. **Logarithmic Functions Supported by Python:**\n",
    "   - Python supports three logarithmic functions:\n",
    "     1. `math.log(x)`: Natural logarithm (base \\(e\\)) of \\(x\\).\n",
    "     2. `math.log10(x)`: Base-10 logarithm of \\(x\\).\n",
    "     3. `math.log2(x)`: Base-2 logarithm of \\(x\\)."
   ]
  }
 ],
 "metadata": {
  "kernelspec": {
   "display_name": "Python 3 (ipykernel)",
   "language": "python",
   "name": "python3"
  },
  "language_info": {
   "codemirror_mode": {
    "name": "ipython",
    "version": 3
   },
   "file_extension": ".py",
   "mimetype": "text/x-python",
   "name": "python",
   "nbconvert_exporter": "python",
   "pygments_lexer": "ipython3",
   "version": "3.11.5"
  }
 },
 "nbformat": 4,
 "nbformat_minor": 5
}
