{
 "cells": [
  {
   "cell_type": "code",
   "execution_count": null,
   "id": "3bb6fae4",
   "metadata": {},
   "outputs": [],
   "source": [
    "Q1. What is the purpose of Python&#39;s OOP?\n",
    "\n",
    "Q2. Where does an inheritance search look for an attribute?\n",
    "\n",
    "Q3. How do you distinguish between a class object and an instance object?\n",
    "\n",
    "Q4. What makes the first argument in a class’s method function special?\n",
    "\n",
    "Q5. What is the purpose of the __init__ method?\n",
    "\n",
    "Q6. What is the process for creating a class instance?\n",
    "\n",
    "Q7. What is the process for creating a class?\n",
    "\n",
    "Q8. How would you define the superclasses of a class?"
   ]
  },
  {
   "cell_type": "code",
   "execution_count": null,
   "id": "6e2280c9",
   "metadata": {},
   "outputs": [],
   "source": [
    "Q1:\n",
    "Purpose of Python's OOP:\n",
    "The purpose of Object-Oriented Programming (OOP) in Python is to organize and structure code in a way that facilitates modularity, reusability, and maintainability. It achieves this through the use of classes and objects, encapsulation, inheritance, and polymorphism. OOP allows developers to model real-world entities, their properties, and their interactions, leading to more scalable and readable code.\n",
    "\n"
   ]
  },
  {
   "cell_type": "code",
   "execution_count": null,
   "id": "9412adf9",
   "metadata": {},
   "outputs": [],
   "source": [
    "Q2:\n",
    "Inheritance Search for an Attribute:\n",
    "When looking for an attribute in Python, the inheritance search starts from the instance object itself and then moves up the class hierarchy. It looks first in the instance's own class, then in its parent class (if any), and continues up the chain of parent classes until it finds the attribute or reaches the top of the inheritance tree (object class)."
   ]
  },
  {
   "cell_type": "code",
   "execution_count": null,
   "id": "c95d48e4",
   "metadata": {},
   "outputs": [],
   "source": [
    "Q3:\n",
    "Distinguishing Class Object and Instance Object:\n",
    "\n",
    "Class Object: Represents the class itself. It is used to access class-level attributes and methods.\n",
    "    class MyClass:\n",
    "    class_variable = \"I am a class variable\"\n",
    "\n",
    "# MyClass is a class object\n"
   ]
  },
  {
   "cell_type": "code",
   "execution_count": null,
   "id": "ae15437f",
   "metadata": {},
   "outputs": [],
   "source": [
    "Q4:\n",
    "Special Role of the First Argument in a Class's Method:\n",
    "\n",
    "The first argument in a class's method is conventionally named self (though the name can be different).\n",
    "It refers to the instance of the class on which the method is called.\n",
    "It allows access to instance variables and other methods within the class."
   ]
  },
  {
   "cell_type": "code",
   "execution_count": null,
   "id": "a9cc144c",
   "metadata": {},
   "outputs": [],
   "source": [
    "Q5:\n",
    "Purpose of the __init__ Method:\n",
    "\n",
    "The __init__ method is a special method in Python classes, also known as the constructor.\n",
    "It is automatically called when a new instance of the class is created.\n",
    "It is used to initialize the attributes of the object and perform any setup needed when the object is instantiated."
   ]
  },
  {
   "cell_type": "code",
   "execution_count": null,
   "id": "34c687f0",
   "metadata": {},
   "outputs": [],
   "source": [
    "Q6:\n",
    "Process for Creating a Class Instance:\n",
    "\n",
    "Define a class with the class keyword.\n",
    "\n",
    "Inside the class, define the __init__ method to initialize instance attributes.\n",
    "\n",
    "Create an instance of the class using the class name, which calls the __init__ method.\n",
    "class MyClass:\n",
    "    def __init__(self, attribute):\n",
    "        self.attribute = attribute\n",
    "\n",
    "obj = MyClass(\"some_value\")  # Creating an instance\n"
   ]
  },
  {
   "cell_type": "code",
   "execution_count": null,
   "id": "e7c7b7a5",
   "metadata": {},
   "outputs": [],
   "source": [
    "Q7:\n",
    "Process for Creating a Class:\n",
    "\n",
    "Use the class keyword followed by the class name to define a class.\n",
    "\n",
    "Include class attributes, class methods, and the __init__ method as needed.\n",
    "\n",
    "python\n",
    "Copy code\n",
    "class MyClass:\n",
    "    class_variable = \"I am a class variable\"\n",
    "\n",
    "    def __init__(self, attribute):\n",
    "        self.attribute = attribute"
   ]
  },
  {
   "cell_type": "code",
   "execution_count": null,
   "id": "814ef4ab",
   "metadata": {},
   "outputs": [],
   "source": [
    "Q8:\n",
    "Defining Superclasses of a Class:\n",
    "\n",
    "Superclasses (or parent classes) of a class are the classes from which it inherits.\n",
    "\n",
    "In Python, you define superclasses by including them in the parentheses after the class name in the class definition.\n",
    "\n",
    "python\n",
    "Copy code\n",
    "class ParentClass:\n",
    "    # ...\n",
    "\n",
    "class ChildClass(ParentClass):\n",
    "    # ChildClass is a subclass of ParentClass\n",
    "    # ...\n",
    "In this example, ParentClass is a superclass of ChildClass. The inheritance relationship is established by specifying ParentClass in the parentheses after ChildClass."
   ]
  }
 ],
 "metadata": {
  "kernelspec": {
   "display_name": "Python 3 (ipykernel)",
   "language": "python",
   "name": "python3"
  },
  "language_info": {
   "codemirror_mode": {
    "name": "ipython",
    "version": 3
   },
   "file_extension": ".py",
   "mimetype": "text/x-python",
   "name": "python",
   "nbconvert_exporter": "python",
   "pygments_lexer": "ipython3",
   "version": "3.11.5"
  }
 },
 "nbformat": 4,
 "nbformat_minor": 5
}
