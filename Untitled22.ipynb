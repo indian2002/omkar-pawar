{
 "cells": [
  {
   "cell_type": "code",
   "execution_count": null,
   "id": "2430b091",
   "metadata": {},
   "outputs": [],
   "source": [
    "Q1: What is the meaning of multiple inheritance?\n",
    "Answer: Multiple inheritance is a feature in object-oriented programming languages where a class can inherit attributes and methods from more than one parent class. In other words, a class can be derived from more than one base classes, and it inherits features from all of them.\n",
    "    class A:\n",
    "    pass\n",
    "\n",
    "class B:\n",
    "    pass\n",
    "\n",
    "class C(A, B):\n",
    "    pass\n",
    "In this example, class C inherits from both classes A and B, allowing it to access attributes and methods from both parent classes."
   ]
  },
  {
   "cell_type": "code",
   "execution_count": null,
   "id": "e1f14efd",
   "metadata": {},
   "outputs": [],
   "source": [
    "Q2: What is the concept of delegation?\n",
    "Answer: Delegation is a design pattern where an object passes on a request to another object, known as the delegate, to fulfill the request. Instead of inheriting behavior, a class delegates certain responsibilities to another class.\n",
    "      class Delegator:\n",
    "    def __init__(self, delegate):\n",
    "        self.delegate = delegate\n",
    "    \n",
    "    def perform_action(self):\n",
    "        self.delegate.do_action()\n",
    "\n",
    "class Delegate:\n",
    "    def do_action(self):\n",
    "        print(\"Delegate is performing the action.\")\n",
    "\n",
    "delegate_instance = Delegate()\n",
    "delegator_instance = Delegator(delegate_instance)\n",
    "delegator_instance.perform_action()\n",
    "  In this example, the Delegator class delegates the responsibility of performing an action to the Delegate class."
   ]
  },
  {
   "cell_type": "code",
   "execution_count": null,
   "id": "afd39530",
   "metadata": {},
   "outputs": [],
   "source": [
    ": What is the concept of composition?\n",
    "Answer: Composition is a design principle where a class contains objects of other classes, forming a relationship between them. The composed class is made up of one or more components, and it delegates certain responsibilities to these components.\n",
    "class Engine:\n",
    "    def start(self):\n",
    "        print(\"Engine started.\")\n",
    "\n",
    "class Car:\n",
    "    def __init__(self):\n",
    "        self.engine = Engine()\n",
    "    \n",
    "    def start(self):\n",
    "        print(\"Car is starting.\")\n",
    "        self.engine.start()\n",
    "\n",
    "my_car = Car()\n",
    "my_car.start()\n",
    "\n"
   ]
  },
  {
   "cell_type": "code",
   "execution_count": null,
   "id": "528ca8ab",
   "metadata": {},
   "outputs": [],
   "source": [
    "Q4: What are bound methods and how do we use them?\n",
    "Answer: Bound methods are methods bound to an instance of a class. When a method is called on an instance, it is automatically passed the instance as its first argument (self). This binding process is what makes a method \"bound.\"\n",
    "    class MyClass:\n",
    "    def my_method(self):\n",
    "        print(\"Hello from bound method.\")\n",
    "\n",
    "obj = MyClass()\n",
    "bound_method = obj.my_method\n",
    "bound_method()  # This is equivalent to obj.my_method()\n"
   ]
  },
  {
   "cell_type": "code",
   "execution_count": null,
   "id": "521bd6c6",
   "metadata": {},
   "outputs": [],
   "source": [
    "Q5: What is the purpose of pseudoprivate attributes?\n",
    "Answer: Pseudoprivate attributes in Python are created by adding double underscores before the attribute name (e.g., __private_attribute). These attributes are not truly private but are name-mangled to avoid accidental name clashes between attributes in different classes.\n",
    "\n",
    "The purpose of pseudoprivate attributes is to make it less likely that a subclass will accidentally override an attribute in a base class. It provides a way to create attributes with a unique name within the class, reducing the chance of naming conflicts in large projects with multiple developers.\n",
    "class MyClass:\n",
    "    def __init__(self):\n",
    "        self.__private_attribute = 42\n",
    "\n",
    "obj = MyClass()\n",
    "print(obj._MyClass__private_attribute)  # Accessing pseudoprivate attribute\n"
   ]
  },
  {
   "cell_type": "code",
   "execution_count": null,
   "id": "68c7e223",
   "metadata": {},
   "outputs": [],
   "source": []
  },
  {
   "cell_type": "code",
   "execution_count": null,
   "id": "4d5bc755",
   "metadata": {},
   "outputs": [],
   "source": []
  }
 ],
 "metadata": {
  "kernelspec": {
   "display_name": "Python 3 (ipykernel)",
   "language": "python",
   "name": "python3"
  },
  "language_info": {
   "codemirror_mode": {
    "name": "ipython",
    "version": 3
   },
   "file_extension": ".py",
   "mimetype": "text/x-python",
   "name": "python",
   "nbconvert_exporter": "python",
   "pygments_lexer": "ipython3",
   "version": "3.11.5"
  }
 },
 "nbformat": 4,
 "nbformat_minor": 5
}
