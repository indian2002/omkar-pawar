{
 "cells": [
  {
   "cell_type": "code",
   "execution_count": 14,
   "id": "b0a8a591-2553-45a1-8bb5-cba88deb3bbe",
   "metadata": {},
   "outputs": [
    {
     "name": "stdin",
     "output_type": "stream",
     "text": [
      "0 20\n"
     ]
    },
    {
     "name": "stdout",
     "output_type": "stream",
     "text": [
      "It is positive number\n"
     ]
    }
   ],
   "source": [
    "#1. Write a Python Program to Check if a Number is Positive, Negative or Zero?\n",
    "\n",
    "\n",
    "A=input(int())\n",
    "\n",
    "if (int(A)>0) :\n",
    "    print(\"It is positive number\")\n",
    "elif (int(A)<0):\n",
    "    print(\"It is negative number\")\n",
    "else:\n",
    "    print(\"It is zero\")\n",
    "    \n",
    "    \n"
   ]
  },
  {
   "cell_type": "code",
   "execution_count": 16,
   "id": "9fc900a6-a0af-4248-992d-c89f97edc050",
   "metadata": {},
   "outputs": [
    {
     "name": "stdin",
     "output_type": "stream",
     "text": [
      "Enter a number:  20\n"
     ]
    },
    {
     "name": "stdout",
     "output_type": "stream",
     "text": [
      "The number 20 is Even.\n"
     ]
    }
   ],
   "source": [
    "#2. Write a Python Program to Check if a Number is Odd or Even?\n",
    "\n",
    "# Taking input from the user\n",
    "user_input = int(input(\"Enter a number: \"))\n",
    "\n",
    "# Checking if the number is odd or even\n",
    "if user_input % 2 == 0:\n",
    "    print(f\"The number {user_input} is Even.\")\n",
    "else:\n",
    "    print(f\"The number {user_input} is Odd.\")\n"
   ]
  },
  {
   "cell_type": "markdown",
   "id": "5fc25a36-3c54-4155-8084-6b098f62f5d3",
   "metadata": {},
   "source": [
    "print(\"Hello\")"
   ]
  },
  {
   "cell_type": "code",
   "execution_count": 1,
   "id": "4786f86d-b671-49f7-9419-d0134e8a7272",
   "metadata": {},
   "outputs": [
    {
     "name": "stdin",
     "output_type": "stream",
     "text": [
      "Enter a number:  20\n"
     ]
    },
    {
     "name": "stdout",
     "output_type": "stream",
     "text": [
      "20 is not a Prime Number.\n"
     ]
    }
   ],
   "source": [
    "#4. Write a Python Program to Check Prime Number?\n",
    "\n",
    "# Function to check if a number is prime\n",
    "def is_prime(number):\n",
    "    if number < 2:\n",
    "        return False\n",
    "    for i in range(2, int(number**0.5) + 1):\n",
    "        if number % i == 0:\n",
    "            return False\n",
    "    return True\n",
    "\n",
    "# Taking input from the user\n",
    "user_input = int(input(\"Enter a number: \"))\n",
    "\n",
    "# Calling the function and printing the result\n",
    "if is_prime(user_input):\n",
    "    print(f\"{user_input} is a Prime Number.\")\n",
    "else:\n",
    "    print(f\"{user_input} is not a Prime Number.\")\n"
   ]
  },
  {
   "cell_type": "code",
   "execution_count": null,
   "id": "b8122ad7-e73d-476b-96be-8ee8d7c1ca19",
   "metadata": {},
   "outputs": [],
   "source": [
    "#5. Write a Python Program to Print all Prime Numbers in an Interval of 1-10000?\n"
   ]
  },
  {
   "cell_type": "code",
   "execution_count": null,
   "id": "f4af624a-66d5-4480-9937-683d7822d9d8",
   "metadata": {},
   "outputs": [],
   "source": []
  },
  {
   "cell_type": "code",
   "execution_count": null,
   "id": "64764f3a-0060-459a-979a-deacbdb00d2d",
   "metadata": {},
   "outputs": [],
   "source": []
  }
 ],
 "metadata": {
  "kernelspec": {
   "display_name": "Python 3 (ipykernel)",
   "language": "python",
   "name": "python3"
  },
  "language_info": {
   "codemirror_mode": {
    "name": "ipython",
    "version": 3
   },
   "file_extension": ".py",
   "mimetype": "text/x-python",
   "name": "python",
   "nbconvert_exporter": "python",
   "pygments_lexer": "ipython3",
   "version": "3.10.6"
  }
 },
 "nbformat": 4,
 "nbformat_minor": 5
}
