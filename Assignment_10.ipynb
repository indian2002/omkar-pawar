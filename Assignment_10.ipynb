{
 "cells": [
  {
   "cell_type": "code",
   "execution_count": 2,
   "id": "b25ff9ca-2ee9-44bb-8ef1-b4c6064df7b8",
   "metadata": {},
   "outputs": [
    {
     "name": "stdout",
     "output_type": "stream",
     "text": [
      "152\n"
     ]
    }
   ],
   "source": [
    "#1. Write a Python program to find sum of elements in list?\n",
    "\n",
    "def add(A):\n",
    "    add=sum(A)\n",
    "    return add\n",
    "my=[47,25,6,74]\n",
    "result=add(my)\n",
    "print(result)\n"
   ]
  },
  {
   "cell_type": "code",
   "execution_count": 2,
   "id": "e22e87e4-9e31-431d-9500-78122a713d96",
   "metadata": {},
   "outputs": [
    {
     "name": "stdout",
     "output_type": "stream",
     "text": [
      "The product of all elements in the list [2, 3, 4, 5] is: 120\n"
     ]
    }
   ],
   "source": [
    "#2. Write a Python program to Multiply all numbers in the list?\n",
    "\n",
    "def multiply_all_elements(my_list):\n",
    "    result = 1\n",
    "    for i in my_list:\n",
    "        result *= i\n",
    "    return result\n",
    "\n",
    "# Example usage:\n",
    "list = [2, 3, 4, 5]\n",
    "ADD = multiply_all_elements(list)\n",
    "\n",
    "print(f\"The product of all elements in the list {list} is: {ADD}\")\n",
    "\n"
   ]
  },
  {
   "cell_type": "code",
   "execution_count": 4,
   "id": "b3318742-f809-4fbb-a6ec-00964c24ea1c",
   "metadata": {},
   "outputs": [
    {
     "name": "stdout",
     "output_type": "stream",
     "text": [
      "The smallest number in the list [5, 2, 8, 1, 4] is: 1\n"
     ]
    }
   ],
   "source": [
    "#3. Write a Python program to find smallest number in a list?\n",
    "\n",
    "def find_smallest_number(input_list):\n",
    "    if not input_list:\n",
    "        return None  # Return None for an empty list\n",
    "\n",
    "    smallest_number = min(input_list)\n",
    "    return smallest_number\n",
    "\n",
    "# Example usage:\n",
    "my_list = [5, 2, 8, 1, 4]\n",
    "result = find_smallest_number(my_list)\n",
    "\n",
    "print(f\"The smallest number in the list {my_list} is: {result}\")\n"
   ]
  },
  {
   "cell_type": "code",
   "execution_count": 8,
   "id": "98c08a32-2de1-4797-9048-f56825cb31cd",
   "metadata": {},
   "outputs": [
    {
     "name": "stdout",
     "output_type": "stream",
     "text": [
      "The largest number in the list [5, 2, 8, 1, 4] is: 8\n"
     ]
    }
   ],
   "source": [
    "#4. Write a Python program to find largest number in a list?\n",
    "def find_largest_number(input_list):\n",
    "    if not input_list:\n",
    "        return None  # Return None for an empty list\n",
    "\n",
    "    largest_number = max(input_list)\n",
    "    return largest_number\n",
    "\n",
    "# Example usage:\n",
    "my_list = [5, 2, 8, 1, 4]\n",
    "result = find_largest_number(my_list)\n",
    "\n",
    "print(f\"The largest number in the list {my_list} is: {result}\")\n",
    "\n",
    " \n"
   ]
  },
  {
   "cell_type": "code",
   "execution_count": 1,
   "id": "ab0c5c94-3b7b-4a9b-af99-0a911e0c3afb",
   "metadata": {},
   "outputs": [
    {
     "name": "stdout",
     "output_type": "stream",
     "text": [
      "The second largest number in the list [5, 2, 8, 1, 4] is: 5\n"
     ]
    }
   ],
   "source": [
    "#5. Write a Python program to find second largest number in a list?\n",
    "\n",
    "def find_second_largest(input_list):\n",
    "    if len(input_list) < 2:\n",
    "        return None  # Return None if the list has fewer than two elements\n",
    "\n",
    "    unique_numbers = list(set(input_list))  # Remove duplicates if any\n",
    "    unique_numbers.sort(reverse=True)  # Sort in descending order\n",
    "\n",
    "    second_largest_number = unique_numbers[1]\n",
    "    return second_largest_number\n",
    "\n",
    "# Example usage:\n",
    "my_list = [5, 2, 8, 1, 4]\n",
    "result = find_second_largest(my_list)\n",
    "\n",
    "if result is not None:\n",
    "    print(f\"The second largest number in the list {my_list} is: {result}\")\n",
    "else:\n",
    "    print(\"The list does not have a second largest number.\")\n"
   ]
  },
  {
   "cell_type": "code",
   "execution_count": 4,
   "id": "5b5eae88-c94f-4257-ba12-9adf7f7f8103",
   "metadata": {},
   "outputs": [
    {
     "name": "stdout",
     "output_type": "stream",
     "text": [
      "The 3 largest elements are: [8, 7, 6]\n"
     ]
    }
   ],
   "source": [
    "#6. Write a Python program to find N largest elements from a list\n",
    "\n",
    "def find_n_largest_elements(lst, n):\n",
    "    # Sort the list in descending order\n",
    "    sorted_list = sorted(lst, reverse=True)\n",
    "    \n",
    "    # Get the first N elements\n",
    "    n_largest_elements = sorted_list[:n]\n",
    "    \n",
    "    return n_largest_elements\n",
    "\n",
    "# Example usage:\n",
    "my_list = [4, 2, 8, 1, 6, 5, 7, 3]\n",
    "N = 3\n",
    "\n",
    "result = find_n_largest_elements(my_list, N)\n",
    "print(f\"The {N} largest elements are: {result}\")\n"
   ]
  },
  {
   "cell_type": "code",
   "execution_count": null,
   "id": "37c54d08-42ac-4ac7-8cfb-8697bd3c180b",
   "metadata": {},
   "outputs": [],
   "source": [
    "7. Write a Python program to print even numbers in a list?\n",
    "8. Write a Python program to print odd numbers in a List?\n",
    "9. Write a Python program to Remove empty List from List?\n",
    "10. Write a Python program to Cloning or Copying a list?\n",
    "11. Write a Python program to Count occurrences of an element in a list? "
   ]
  },
  {
   "cell_type": "code",
   "execution_count": 7,
   "id": "bdba3e47-571b-4d23-a09a-a91a187a0450",
   "metadata": {},
   "outputs": [
    {
     "name": "stdout",
     "output_type": "stream",
     "text": [
      "Even numbers in the list are: [2, 4, 6, 8, 10]\n"
     ]
    }
   ],
   "source": [
    "#7. Write a Python program to print even numbers in a list?\n",
    "\n",
    "\n",
    "def print_even_numbers(lst):\n",
    "    even_numbers = [num for num in lst if num % 2 == 0]\n",
    "    print(\"Even numbers in the list are:\", even_numbers)\n",
    "\n",
    "# Example usage:\n",
    "my_list = [1, 2, 3, 4, 5, 6, 7, 8, 9, 10]\n",
    "\n",
    "print_even_numbers(my_list)\n"
   ]
  },
  {
   "cell_type": "code",
   "execution_count": 1,
   "id": "f29328e5-3af2-4252-a1c3-fb4c501daaf3",
   "metadata": {},
   "outputs": [
    {
     "name": "stdout",
     "output_type": "stream",
     "text": [
      "Odd numbers in the list: [1, 3, 5, 7, 9]\n"
     ]
    }
   ],
   "source": [
    "#8. Write a Python program to print odd numbers in a List?\n",
    "def print_odd_numbers(lst):\n",
    "    odd_numbers = [num for num in lst if num % 2 != 0]\n",
    "    print(\"Odd numbers in the list:\", odd_numbers)\n",
    "\n",
    "# Example usage:\n",
    "my_list = [1, 2, 3, 4, 5, 6, 7, 8, 9, 10]\n",
    "print_odd_numbers(my_list)\n",
    "\n"
   ]
  },
  {
   "cell_type": "code",
   "execution_count": 3,
   "id": "de436dd1-8232-4294-ab72-56464073b0b2",
   "metadata": {},
   "outputs": [
    {
     "name": "stdout",
     "output_type": "stream",
     "text": [
      "List after removing empty lists: [1, 2, 3, 4, 5]\n"
     ]
    }
   ],
   "source": [
    "#9. Write a Python program to Remove empty List from List?\n",
    "\n",
    "def remove_empty_lists(lst):\n",
    "    non_empty_lists = [sublist for sublist in lst if sublist]\n",
    "    return non_empty_lists\n",
    "\n",
    "# Example usage:\n",
    "my_list = [1, 2, [], 3, [], 4, 5, [], []]\n",
    "result = remove_empty_lists(my_list)\n",
    "print(\"List after removing empty lists:\", result)\n",
    "\n"
   ]
  },
  {
   "cell_type": "code",
   "execution_count": 4,
   "id": "ad12e001-9494-4941-a49c-5932d8493064",
   "metadata": {},
   "outputs": [
    {
     "name": "stdout",
     "output_type": "stream",
     "text": [
      "Original List: [1, 2, 3, 4, 5]\n",
      "Cloned List: [1, 2, 3, 4, 5]\n"
     ]
    }
   ],
   "source": [
    "#10. Write a Python program to Cloning or Copying a list?\n",
    "\n",
    "def clone_list(original_list):\n",
    "    cloned_list = original_list[:]\n",
    "    return cloned_list\n",
    "\n",
    "# Example usage:\n",
    "my_list = [1, 2, 3, 4, 5]\n",
    "cloned_list = clone_list(my_list)\n",
    "print(\"Original List:\", my_list)\n",
    "print(\"Cloned List:\", cloned_list)\n",
    "\n",
    "\n"
   ]
  },
  {
   "cell_type": "code",
   "execution_count": 5,
   "id": "ec2d83f0-7eba-4746-a8f5-bc98a32b6f3b",
   "metadata": {},
   "outputs": [
    {
     "name": "stdout",
     "output_type": "stream",
     "text": [
      "The element 2 occurs 4 times in the list.\n"
     ]
    }
   ],
   "source": [
    "#11. Write a Python program to Count occurrences of an element in a list? \n",
    "def count_occurrences(lst, element):\n",
    "    occurrence_count = lst.count(element)\n",
    "    return occurrence_count\n",
    "\n",
    "# Example usage:\n",
    "my_list = [1, 2, 3, 4, 2, 5, 2, 6, 7, 2]\n",
    "element_to_count = 2\n",
    "\n",
    "result = count_occurrences(my_list, element_to_count)\n",
    "print(f\"The element {element_to_count} occurs {result} times in the list.\")\n"
   ]
  },
  {
   "cell_type": "code",
   "execution_count": null,
   "id": "864942d9-496f-451f-b082-4e038e369aa4",
   "metadata": {},
   "outputs": [],
   "source": []
  }
 ],
 "metadata": {
  "kernelspec": {
   "display_name": "Python 3 (ipykernel)",
   "language": "python",
   "name": "python3"
  },
  "language_info": {
   "codemirror_mode": {
    "name": "ipython",
    "version": 3
   },
   "file_extension": ".py",
   "mimetype": "text/x-python",
   "name": "python",
   "nbconvert_exporter": "python",
   "pygments_lexer": "ipython3",
   "version": "3.10.6"
  }
 },
 "nbformat": 4,
 "nbformat_minor": 5
}
